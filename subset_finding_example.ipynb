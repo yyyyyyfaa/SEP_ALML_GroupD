{
 "cells": [
  {
   "cell_type": "code",
   "execution_count": null,
   "id": "b46fc8f6",
   "metadata": {},
   "outputs": [],
   "source": [
    "from __future__ import annotations\n",
    "\n",
    "from shapiq import ExactComputer\n",
    "from shapiq.games.benchmark import SOUM\n",
    "\n",
    "from shapiq_student.subset_finding import subset_finding"
   ]
  },
  {
   "cell_type": "code",
   "execution_count": 2,
   "id": "71f08f63",
   "metadata": {},
   "outputs": [],
   "source": [
    "game = SOUM(n = 8, n_basis_games = 50)"
   ]
  },
  {
   "cell_type": "code",
   "execution_count": 3,
   "id": "8848369f",
   "metadata": {},
   "outputs": [],
   "source": [
    "computer = ExactComputer(n_players = game.n_players, game = game)\n",
    "iv = computer(index = \"FSII\", order = 3)"
   ]
  },
  {
   "cell_type": "code",
   "execution_count": null,
   "id": "72dce48b",
   "metadata": {},
   "outputs": [
    {
     "name": "stdout",
     "output_type": "stream",
     "text": [
      "Original interaction values: 4 coalitions\n"
     ]
    }
   ],
   "source": [
    "print(f\"Original interaction values: {len(iv.index)} coalitions\")"
   ]
  },
  {
   "cell_type": "code",
   "execution_count": 5,
   "id": "13626852",
   "metadata": {},
   "outputs": [
    {
     "name": "stdout",
     "output_type": "stream",
     "text": [
      "Beispielhafte Koalition im Index: F <class 'str'>\n",
      "Koalition als frozenset: frozenset({'F'})\n",
      "Beispielhafte Selected Coalition: (0, 1)\n",
      "Alle selected_coalitions: {(0, 1), (0, 1, 2, 3, 4, 5), (0, 1, 2), (0, 1, 2, 3, 4, 5, 6), (0, 1, 2, 3), (0,), (0, 1, 2, 3, 4), (0, 1, 2, 3, 4, 5, 6, 7)}\n"
     ]
    }
   ],
   "source": [
    "iv_subset = subset_finding(interaction_values = iv, max_size = 3)"
   ]
  },
  {
   "cell_type": "code",
   "execution_count": 6,
   "id": "698192c8",
   "metadata": {},
   "outputs": [
    {
     "name": "stdout",
     "output_type": "stream",
     "text": [
      "Subset interaction values: FSII coalitions\n"
     ]
    }
   ],
   "source": [
    "print(f\"Subset interaction values: {(iv_subset.index)} coalitions\")"
   ]
  },
  {
   "cell_type": "code",
   "execution_count": 7,
   "id": "fbd058f7",
   "metadata": {},
   "outputs": [
    {
     "name": "stdout",
     "output_type": "stream",
     "text": [
      "InteractionValues(\n",
      "    index=FSII, max_order=3, min_order=0, estimated=True, estimation_budget=None,\n",
      "    n_players=8, baseline_value=0.1898816807841206,\n",
      "    Top 10 interactions:\n",
      "        (1,): 0.4052247267003253\n",
      "        (2,): 0.4052247267003253\n",
      "        (0,): 0.20201887853143796\n",
      "        (): 0.1898816807841206\n",
      ")\n"
     ]
    }
   ],
   "source": [
    "print(iv_subset)"
   ]
  },
  {
   "cell_type": "code",
   "execution_count": null,
   "id": "a139b320",
   "metadata": {},
   "outputs": [
    {
     "name": "stdout",
     "output_type": "stream",
     "text": [
      "Alle Werte nach der Selektion:\n",
      "F 0.1898816807841206\n",
      "S 0.20201887853143796\n",
      "I 0.4052247267003253\n",
      "I 0.4052247267003253\n"
     ]
    }
   ],
   "source": [
    "print(\"Alle Werte nach der Selektion:\")\n",
    "for coal, val in zip(iv_subset.index, iv_subset.values, strict=False):\n",
    "    print(coal, val)\n"
   ]
  },
  {
   "cell_type": "code",
   "execution_count": null,
   "id": "1541518f",
   "metadata": {},
   "outputs": [],
   "source": []
  }
 ],
 "metadata": {
  "kernelspec": {
   "display_name": ".venv",
   "language": "python",
   "name": "python3"
  },
  "language_info": {
   "codemirror_mode": {
    "name": "ipython",
    "version": 3
   },
   "file_extension": ".py",
   "mimetype": "text/x-python",
   "name": "python",
   "nbconvert_exporter": "python",
   "pygments_lexer": "ipython3",
   "version": "3.13.3"
  }
 },
 "nbformat": 4,
 "nbformat_minor": 5
}
