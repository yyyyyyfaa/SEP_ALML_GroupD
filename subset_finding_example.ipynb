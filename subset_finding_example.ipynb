{
 "cells": [
  {
   "cell_type": "code",
   "execution_count": 1,
   "id": "b46fc8f6",
   "metadata": {},
   "outputs": [
    {
     "name": "stderr",
     "output_type": "stream",
     "text": [
      "c:\\Users\\tobib\\SEP_ALML_GroupD\\.venv\\Lib\\site-packages\\tqdm\\auto.py:21: TqdmWarning: IProgress not found. Please update jupyter and ipywidgets. See https://ipywidgets.readthedocs.io/en/stable/user_install.html\n",
      "  from .autonotebook import tqdm as notebook_tqdm\n"
     ]
    }
   ],
   "source": [
    "from shapiq import ExactComputer, InteractionValues\n",
    "from shapiq.games.benchmark import SOUM\n",
    "from shapiq_student.subset_finding import subset_finding\n",
    "from itertools import combinations\n",
    "import numpy as np"
   ]
  },
  {
   "cell_type": "code",
   "execution_count": 2,
   "id": "71f08f63",
   "metadata": {},
   "outputs": [],
   "source": [
    "game = SOUM(n = 8, n_basis_games = 50)"
   ]
  },
  {
   "cell_type": "code",
   "execution_count": 3,
   "id": "8848369f",
   "metadata": {},
   "outputs": [],
   "source": [
    "computer = ExactComputer(n_players = game.n_players, game = game)\n",
    "iv = computer(index = \"FSII\", order = 3)"
   ]
  },
  {
   "cell_type": "code",
   "execution_count": 4,
   "id": "72dce48b",
   "metadata": {},
   "outputs": [
    {
     "name": "stdout",
     "output_type": "stream",
     "text": [
      "Original interaction values: 4 coalitions\n"
     ]
    }
   ],
   "source": [
    "print(f\"Original interaction values: {len(iv.index)} coalitions\")"
   ]
  },
  {
   "cell_type": "code",
   "execution_count": 5,
   "id": "13626852",
   "metadata": {},
   "outputs": [
    {
     "ename": "KeyError",
     "evalue": "3",
     "output_type": "error",
     "traceback": [
      "\u001b[31m---------------------------------------------------------------------------\u001b[39m",
      "\u001b[31mKeyError\u001b[39m                                  Traceback (most recent call last)",
      "\u001b[36mCell\u001b[39m\u001b[36m \u001b[39m\u001b[32mIn[5]\u001b[39m\u001b[32m, line 1\u001b[39m\n\u001b[32m----> \u001b[39m\u001b[32m1\u001b[39m iv_subset = \u001b[43msubset_finding\u001b[49m\u001b[43m(\u001b[49m\u001b[43minteraction_values\u001b[49m\u001b[43m \u001b[49m\u001b[43m=\u001b[49m\u001b[43m \u001b[49m\u001b[43miv\u001b[49m\u001b[43m,\u001b[49m\u001b[43m \u001b[49m\u001b[43mmax_size\u001b[49m\u001b[43m \u001b[49m\u001b[43m=\u001b[49m\u001b[43m \u001b[49m\u001b[32;43m3\u001b[39;49m\u001b[43m)\u001b[49m\n",
      "\u001b[36mFile \u001b[39m\u001b[32mc:\\Users\\tobib\\SEP_ALML_GroupD\\shapiq_student\\subset_finding.py:143\u001b[39m, in \u001b[36msubset_finding\u001b[39m\u001b[34m(interaction_values, max_size)\u001b[39m\n\u001b[32m    140\u001b[39m s_min = greedy_extreme_min(length, N, e_weights, max_size)\n\u001b[32m    142\u001b[39m \u001b[38;5;66;03m#back to String coalitions\u001b[39;00m\n\u001b[32m--> \u001b[39m\u001b[32m143\u001b[39m str_max = \u001b[33m\"\u001b[39m\u001b[33m\"\u001b[39m.join(\u001b[38;5;28;43msorted\u001b[39;49m\u001b[43m(\u001b[49m\u001b[43mindex_to_name\u001b[49m\u001b[43m[\u001b[49m\u001b[43mi\u001b[49m\u001b[43m]\u001b[49m\u001b[43m \u001b[49m\u001b[38;5;28;43;01mfor\u001b[39;49;00m\u001b[43m \u001b[49m\u001b[43mi\u001b[49m\u001b[43m \u001b[49m\u001b[38;5;129;43;01min\u001b[39;49;00m\u001b[43m \u001b[49m\u001b[43ms_max\u001b[49m\u001b[43m)\u001b[49m)\n\u001b[32m    144\u001b[39m str_min = \u001b[33m\"\u001b[39m\u001b[33m\"\u001b[39m.join(\u001b[38;5;28msorted\u001b[39m(index_to_name[i] \u001b[38;5;28;01mfor\u001b[39;00m i \u001b[38;5;129;01min\u001b[39;00m s_min))\n\u001b[32m    147\u001b[39m selected_coalitions.add(str_max)\n",
      "\u001b[36mFile \u001b[39m\u001b[32mc:\\Users\\tobib\\SEP_ALML_GroupD\\shapiq_student\\subset_finding.py:143\u001b[39m, in \u001b[36m<genexpr>\u001b[39m\u001b[34m(.0)\u001b[39m\n\u001b[32m    140\u001b[39m s_min = greedy_extreme_min(length, N, e_weights, max_size)\n\u001b[32m    142\u001b[39m \u001b[38;5;66;03m#back to String coalitions\u001b[39;00m\n\u001b[32m--> \u001b[39m\u001b[32m143\u001b[39m str_max = \u001b[33m\"\u001b[39m\u001b[33m\"\u001b[39m.join(\u001b[38;5;28msorted\u001b[39m(\u001b[43mindex_to_name\u001b[49m\u001b[43m[\u001b[49m\u001b[43mi\u001b[49m\u001b[43m]\u001b[49m \u001b[38;5;28;01mfor\u001b[39;00m i \u001b[38;5;129;01min\u001b[39;00m s_max))\n\u001b[32m    144\u001b[39m str_min = \u001b[33m\"\u001b[39m\u001b[33m\"\u001b[39m.join(\u001b[38;5;28msorted\u001b[39m(index_to_name[i] \u001b[38;5;28;01mfor\u001b[39;00m i \u001b[38;5;129;01min\u001b[39;00m s_min))\n\u001b[32m    147\u001b[39m selected_coalitions.add(str_max)\n",
      "\u001b[31mKeyError\u001b[39m: 3"
     ]
    }
   ],
   "source": [
    "iv_subset = subset_finding(interaction_values = iv, max_size = 3)"
   ]
  },
  {
   "cell_type": "code",
   "execution_count": null,
   "id": "698192c8",
   "metadata": {},
   "outputs": [
    {
     "name": "stdout",
     "output_type": "stream",
     "text": [
      "Subset interaction values: FSII coalitions\n"
     ]
    }
   ],
   "source": [
    "print(f\"Subset interaction values: {(iv_subset.index)} coalitions\")"
   ]
  },
  {
   "cell_type": "code",
   "execution_count": null,
   "id": "fbd058f7",
   "metadata": {},
   "outputs": [
    {
     "name": "stdout",
     "output_type": "stream",
     "text": [
      "InteractionValues(\n",
      "    index=FSII, max_order=3, min_order=0, estimated=True, estimation_budget=None,\n",
      "    n_players=8, baseline_value=-1.1906872046273747,\n",
      "    Top 10 interactions:\n",
      "        (): 0.0\n",
      "        (0,): 0.0\n",
      "        (1,): 0.0\n",
      "        (2,): 0.0\n",
      ")\n"
     ]
    }
   ],
   "source": [
    "print(iv_subset)"
   ]
  }
 ],
 "metadata": {
  "kernelspec": {
   "display_name": ".venv",
   "language": "python",
   "name": "python3"
  },
  "language_info": {
   "codemirror_mode": {
    "name": "ipython",
    "version": 3
   },
   "file_extension": ".py",
   "mimetype": "text/x-python",
   "name": "python",
   "nbconvert_exporter": "python",
   "pygments_lexer": "ipython3",
   "version": "3.13.3"
  }
 },
 "nbformat": 4,
 "nbformat_minor": 5
}
