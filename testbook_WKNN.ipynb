{
 "cells": [
  {
   "cell_type": "code",
   "execution_count": 1,
   "id": "7498535b-8634-4aba-a42d-42c0f71af85d",
   "metadata": {},
   "outputs": [],
   "source": [
    "import numpy as np\n",
    "import pandas as pd\n",
    "from sklearn.metrics import accuracy_score\n",
    "\n",
    "from shapiq_student.knn_explainer2 import KNNExplainer\n",
    "import matplotlib.pyplot as plt\n",
    "from sklearn.neighbors import KNeighborsClassifier\n",
    "from sklearn.model_selection import train_test_split"
   ]
  },
  {
   "cell_type": "code",
   "execution_count": 2,
   "id": "6f7c51ec-9579-4e43-8e82-c2539eb43109",
   "metadata": {},
   "outputs": [],
   "source": [
    "df = pd.read_csv(\"shapiq_student/movie_dataset.csv\")\n",
    "train_df, test_df = train_test_split(df, test_size=0.2, random_state=42)\n",
    "X_train = train_df[[\"fight_scenes\",\"kiss_scenes\"]].values\n",
    "y_train = train_df[\"label\"].values\n",
    "X_test = test_df[[\"fight_scenes\",\"kiss_scenes\"]].values\n",
    "y_test = test_df[\"label\"].values"
   ]
  },
  {
   "cell_type": "code",
   "execution_count": 3,
   "id": "36ccc260-11f9-4328-8347-3ac7f0c048c8",
   "metadata": {},
   "outputs": [],
   "source": [
    "knn = KNeighborsClassifier(n_neighbors=5)\n",
    "knn.fit(X_train, y_train)\n",
    "prediction = knn.predict(X_test)\n",
    "accuracy = accuracy_score(y_test, prediction)"
   ]
  },
  {
   "cell_type": "code",
   "execution_count": 4,
   "id": "7b99de54-d28c-45bf-8019-bca65abfb67a",
   "metadata": {},
   "outputs": [],
   "source": [
    "explainer = KNNExplainer(knn, X_train, y_train, \"weighted\")"
   ]
  },
  {
   "cell_type": "code",
   "execution_count": 5,
   "id": "58abd820-6683-4121-abc2-11a2391d297d",
   "metadata": {
    "scrolled": true
   },
   "outputs": [],
   "source": [
    "phi = explainer.weighted_knn_shapley(\n",
    "    x_train=X_train, y_train=y_train,\n",
    "    x_test=X_test, y_test=y_test,\n",
    "    gamma=5, K=5)"
   ]
  },
  {
   "cell_type": "code",
   "execution_count": 6,
   "id": "54a3e322-51b2-4958-b1ef-0f475c9c59a5",
   "metadata": {},
   "outputs": [
    {
     "name": "stdout",
     "output_type": "stream",
     "text": [
      "[1.27637901 1.27637901 1.27637901 1.27637901 1.27637901 0.27637901\n",
      " 0.10971234 0.0620933  0.04423615 0.03629965 0.03233139 0.03016689\n",
      " 0.02890426 0.02812726 0.02762776 0.02729476 0.02706582 0.02690422\n",
      " 0.02678751 0.02670151 0.02663701 0.02658787 0.02654989 0.02652017\n",
      " 0.02649665 0.02647782 0.02646262 0.02645024 0.02644006 0.02643164\n",
      " 0.02642462 0.02641874 0.02641377 0.02640956 0.02640596 0.02640288\n",
      " 0.02640023 0.02639794 0.02639594 0.02639421]\n"
     ]
    }
   ],
   "source": [
    "print(phi)"
   ]
  },
  {
   "cell_type": "code",
   "execution_count": null,
   "id": "b9485e63-7365-4bdc-b09e-d0664aae5b19",
   "metadata": {},
   "outputs": [],
   "source": [
    " "
   ]
  },
  {
   "cell_type": "code",
   "execution_count": null,
   "id": "184615f8-e843-4eed-89b0-452063f0f8ae",
   "metadata": {},
   "outputs": [],
   "source": []
  }
 ],
 "metadata": {
  "kernelspec": {
   "display_name": "Python [conda env:base] *",
   "language": "python",
   "name": "conda-base-py"
  },
  "language_info": {
   "codemirror_mode": {
    "name": "ipython",
    "version": 3
   },
   "file_extension": ".py",
   "mimetype": "text/x-python",
   "name": "python",
   "nbconvert_exporter": "python",
   "pygments_lexer": "ipython3",
   "version": "3.12.7"
  }
 },
 "nbformat": 4,
 "nbformat_minor": 5
}
