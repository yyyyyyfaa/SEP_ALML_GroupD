{
 "cells": [
  {
   "cell_type": "code",
   "execution_count": 1,
   "id": "7498535b-8634-4aba-a42d-42c0f71af85d",
   "metadata": {},
   "outputs": [],
   "source": [
    "import numpy as np\n",
    "import pandas as pd\n",
    "from sklearn.metrics import accuracy_score\n",
    "\n",
    "from shapiq_student.knn_explainer2 import KNNExplainer\n",
    "import matplotlib.pyplot as plt\n",
    "from sklearn.neighbors import KNeighborsClassifier\n",
    "from sklearn.model_selection import train_test_split"
   ]
  },
  {
   "cell_type": "code",
   "execution_count": 2,
   "id": "6f7c51ec-9579-4e43-8e82-c2539eb43109",
   "metadata": {},
   "outputs": [],
   "source": [
    "df = pd.read_csv(\"shapiq_student/movie_dataset.csv\")\n",
    "train_df, test_df = train_test_split(df, test_size=0.2, random_state=42)\n",
    "X_train = train_df[[\"fight_scenes\",\"kiss_scenes\"]].values\n",
    "y_train = train_df[\"label\"].values\n",
    "X_test = test_df[[\"fight_scenes\",\"kiss_scenes\"]].values\n",
    "y_test = test_df[\"label\"].values"
   ]
  },
  {
   "cell_type": "code",
   "execution_count": 3,
   "id": "36ccc260-11f9-4328-8347-3ac7f0c048c8",
   "metadata": {},
   "outputs": [],
   "source": [
    "knn = KNeighborsClassifier(n_neighbors=5)\n",
    "knn.fit(X_train, y_train)\n",
    "prediction = knn.predict(X_test)\n",
    "accuracy = accuracy_score(y_test, prediction)"
   ]
  },
  {
   "cell_type": "code",
   "execution_count": 4,
   "id": "7b99de54-d28c-45bf-8019-bca65abfb67a",
   "metadata": {},
   "outputs": [],
   "source": [
    "explainer = KNNExplainer(knn, X_train, y_train, \"weighted\")"
   ]
  },
  {
   "cell_type": "code",
   "execution_count": 5,
   "id": "58abd820-6683-4121-abc2-11a2391d297d",
   "metadata": {},
   "outputs": [
    {
     "ename": "IndexError",
     "evalue": "only integers, slices (`:`), ellipsis (`...`), numpy.newaxis (`None`) and integer or boolean arrays are valid indices",
     "output_type": "error",
     "traceback": [
      "\u001b[1;31m---------------------------------------------------------------------------\u001b[0m",
      "\u001b[1;31mIndexError\u001b[0m                                Traceback (most recent call last)",
      "Cell \u001b[1;32mIn[5], line 4\u001b[0m\n\u001b[0;32m      2\u001b[0m x_val \u001b[38;5;241m=\u001b[39m X_test[i]\n\u001b[0;32m      3\u001b[0m y_val \u001b[38;5;241m=\u001b[39m y_test[i]\n\u001b[1;32m----> 4\u001b[0m phi \u001b[38;5;241m=\u001b[39m explainer\u001b[38;5;241m.\u001b[39mweighted_knn_shapley(\n\u001b[0;32m      5\u001b[0m     x_train\u001b[38;5;241m=\u001b[39mX_train, y_train\u001b[38;5;241m=\u001b[39my_train,\n\u001b[0;32m      6\u001b[0m     x_test\u001b[38;5;241m=\u001b[39mx_val, y_test\u001b[38;5;241m=\u001b[39my_val,\n\u001b[0;32m      7\u001b[0m     gamma\u001b[38;5;241m=\u001b[39m\u001b[38;5;241m5\u001b[39m, K\u001b[38;5;241m=\u001b[39m\u001b[38;5;241m10\u001b[39m\n\u001b[0;32m      8\u001b[0m )\n",
      "File \u001b[1;32m~\\SEP\\SEP_ALML_GroupD\\shapiq_student\\knn_explainer2.py:106\u001b[0m, in \u001b[0;36mKNNExplainer.weighted_knn_shapley\u001b[1;34m(self, x_train, y_train, x_test, y_test, gamma, K)\u001b[0m\n\u001b[0;32m    104\u001b[0m G_il \u001b[38;5;241m=\u001b[39m {}\n\u001b[0;32m    105\u001b[0m \u001b[38;5;28;01mif\u001b[39;00m Y_sorted[length] \u001b[38;5;241m==\u001b[39m y_val:\n\u001b[1;32m--> 106\u001b[0m         G_il \u001b[38;5;241m=\u001b[39m \u001b[38;5;28msum\u001b[39m(F_i\u001b[38;5;241m.\u001b[39mget((m, length, s), \u001b[38;5;241m0\u001b[39m) \u001b[38;5;28;01mfor\u001b[39;00m m \u001b[38;5;129;01min\u001b[39;00m \u001b[38;5;28mrange\u001b[39m(N) \u001b[38;5;28;01mif\u001b[39;00m m \u001b[38;5;241m!=\u001b[39m i) \u001b[38;5;241m*\u001b[39m \u001b[38;5;28msum\u001b[39m(F_i\u001b[38;5;241m.\u001b[39mget((m, length, s), \u001b[38;5;241m0\u001b[39m) \u001b[38;5;28;01mfor\u001b[39;00m s \u001b[38;5;129;01min\u001b[39;00m \u001b[38;5;28mrange\u001b[39m(\u001b[38;5;241m-\u001b[39mw_i[s], \u001b[38;5;241m0\u001b[39m))\n\u001b[0;32m    107\u001b[0m \u001b[38;5;28;01melse\u001b[39;00m:\n\u001b[0;32m    108\u001b[0m         G_il[m] \u001b[38;5;241m=\u001b[39m \u001b[38;5;28msum\u001b[39m(F_i\u001b[38;5;241m.\u001b[39mget((m, length, s), \u001b[38;5;241m0\u001b[39m)) \u001b[38;5;241m*\u001b[39m \u001b[38;5;28msum\u001b[39m(F_i\u001b[38;5;241m.\u001b[39mget((m, length, s), \u001b[38;5;241m0\u001b[39m) \u001b[38;5;28;01mfor\u001b[39;00m s \u001b[38;5;129;01min\u001b[39;00m \u001b[38;5;28mrange\u001b[39m(\u001b[38;5;241m0\u001b[39m, \u001b[38;5;241m-\u001b[39mw_i))\n",
      "\u001b[1;31mIndexError\u001b[0m: only integers, slices (`:`), ellipsis (`...`), numpy.newaxis (`None`) and integer or boolean arrays are valid indices"
     ]
    }
   ],
   "source": [
    "for i in range(len(X_test)):\n",
    "    x_val = X_test[i]\n",
    "    y_val = y_test[i]\n",
    "    phi = explainer.weighted_knn_shapley(\n",
    "        x_train=X_train, y_train=y_train,\n",
    "        x_test=x_val, y_test=y_val,\n",
    "        gamma=5, K=10\n",
    "    )"
   ]
  },
  {
   "cell_type": "code",
   "execution_count": null,
   "id": "54a3e322-51b2-4958-b1ef-0f475c9c59a5",
   "metadata": {},
   "outputs": [],
   "source": []
  }
 ],
 "metadata": {
  "kernelspec": {
   "display_name": "Python 3 (ipykernel)",
   "language": "python",
   "name": "python3"
  },
  "language_info": {
   "codemirror_mode": {
    "name": "ipython",
    "version": 3
   },
   "file_extension": ".py",
   "mimetype": "text/x-python",
   "name": "python",
   "nbconvert_exporter": "python",
   "pygments_lexer": "ipython3",
   "version": "3.12.7"
  }
 },
 "nbformat": 4,
 "nbformat_minor": 5
}
