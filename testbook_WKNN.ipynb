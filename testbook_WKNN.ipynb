{
 "cells": [
  {
   "cell_type": "code",
   "execution_count": 3,
   "id": "7498535b-8634-4aba-a42d-42c0f71af85d",
   "metadata": {},
   "outputs": [],
   "source": [
    "import matplotlib.pyplot as plt\n",
    "import numpy as np\n",
    "import pandas as pd\n",
    "from shapiq.explainer import TabularExplainer\n",
    "from sklearn.metrics import accuracy_score\n",
    "from sklearn.model_selection import train_test_split\n",
    "from sklearn.neighbors import KNeighborsClassifier\n",
    "\n",
    "import shapiq_student\n"
   ]
  },
  {
   "cell_type": "code",
   "execution_count": 4,
   "id": "6f7c51ec-9579-4e43-8e82-c2539eb43109",
   "metadata": {},
   "outputs": [],
   "source": [
    "df = pd.read_csv(\"shapiq_student/movie_dataset.csv\")\n",
    "train_df, test_df = train_test_split(df, test_size=0.2, random_state=42)\n",
    "X_train = train_df[[\"fight_scenes\",\"kiss_scenes\"]].values\n",
    "y_train = train_df[\"label\"].values\n",
    "X_test = test_df[[\"fight_scenes\",\"kiss_scenes\"]].values\n",
    "y_test = test_df[\"label\"].values"
   ]
  },
  {
   "cell_type": "code",
   "execution_count": 5,
   "id": "36ccc260-11f9-4328-8347-3ac7f0c048c8",
   "metadata": {},
   "outputs": [],
   "source": [
    "knn = KNeighborsClassifier(n_neighbors=5)\n",
    "knn.fit(X_train, y_train)\n",
    "prediction = knn.predict(X_test)\n",
    "accuracy = accuracy_score(y_test, prediction)"
   ]
  },
  {
   "cell_type": "code",
   "execution_count": 6,
   "id": "aeec906d",
   "metadata": {},
   "outputs": [],
   "source": [
    "row = df[df['title'] == 'Revenge Protocol'].iloc[0]\n",
    "x_val = [row['fight_scenes'], row['kiss_scenes']]\n",
    "y_val = row['label']"
   ]
  },
  {
   "cell_type": "code",
   "execution_count": 7,
   "id": "7b99de54-d28c-45bf-8019-bca65abfb67a",
   "metadata": {},
   "outputs": [
    {
     "ename": "NameError",
     "evalue": "name 'KNNExplainer' is not defined",
     "output_type": "error",
     "traceback": [
      "\u001b[31m---------------------------------------------------------------------------\u001b[39m",
      "\u001b[31mNameError\u001b[39m                                 Traceback (most recent call last)",
      "\u001b[36mCell\u001b[39m\u001b[36m \u001b[39m\u001b[32mIn[7]\u001b[39m\u001b[32m, line 1\u001b[39m\n\u001b[32m----> \u001b[39m\u001b[32m1\u001b[39m explainer = \u001b[43mKNNExplainer\u001b[49m(knn, X_train, y_train, \u001b[33m\"\u001b[39m\u001b[33mweighted\u001b[39m\u001b[33m\"\u001b[39m)\n",
      "\u001b[31mNameError\u001b[39m: name 'KNNExplainer' is not defined"
     ]
    }
   ],
   "source": [
    "explainer = KNNExplainer(knn, X_train, y_train, \"weighted\")"
   ]
  },
  {
   "cell_type": "code",
   "execution_count": 8,
   "id": "58abd820-6683-4121-abc2-11a2391d297d",
   "metadata": {
    "scrolled": true
   },
   "outputs": [
    {
     "ename": "NameError",
     "evalue": "name 'explainer' is not defined",
     "output_type": "error",
     "traceback": [
      "\u001b[31m---------------------------------------------------------------------------\u001b[39m",
      "\u001b[31mNameError\u001b[39m                                 Traceback (most recent call last)",
      "\u001b[36mCell\u001b[39m\u001b[36m \u001b[39m\u001b[32mIn[8]\u001b[39m\u001b[32m, line 1\u001b[39m\n\u001b[32m----> \u001b[39m\u001b[32m1\u001b[39m phi = \u001b[43mexplainer\u001b[49m.weighted_knn_shapley(\n\u001b[32m      2\u001b[39m     x_val=x_val, y_val=y_val,\n\u001b[32m      3\u001b[39m     gamma=\u001b[32m5\u001b[39m, K=\u001b[32m5\u001b[39m)\n",
      "\u001b[31mNameError\u001b[39m: name 'explainer' is not defined"
     ]
    }
   ],
   "source": [
    "phi = explainer.weighted_knn_shapley(\n",
    "    x_val=x_val, y_val=y_val,\n",
    "    gamma=5, K=5)"
   ]
  },
  {
   "cell_type": "code",
   "execution_count": null,
   "id": "54a3e322-51b2-4958-b1ef-0f475c9c59a5",
   "metadata": {},
   "outputs": [
    {
     "name": "stdout",
     "output_type": "stream",
     "text": [
      "[ 1.28236993  1.28236993  1.28236993  1.28236993  1.28236993  0.28236993\n",
      "  0.11570326  0.06808422  0.05022707  0.04229057  0.03832231  0.03615781\n",
      " -0.05912974  0.05990674  0.06040624  0.06073924  0.06096818  0.06112979\n",
      "  0.0612465   0.0613325   0.061397    0.06144614  0.06148411  0.06151383\n",
      "  0.06153736  0.06155618  0.06157138  0.06158377  0.06159395  0.06160237\n",
      "  0.06160938  0.06161527 -0.03240469]\n"
     ]
    }
   ],
   "source": [
    "print(phi)"
   ]
  },
  {
   "cell_type": "code",
   "execution_count": null,
   "id": "b9485e63-7365-4bdc-b09e-d0664aae5b19",
   "metadata": {},
   "outputs": [],
   "source": [
    "e_weights = {\n",
    "    frozenset(): 0.0,                   # Basiswert e₀\n",
    "    frozenset({0}): 0.5,\n",
    "    frozenset({1}): 1.0,\n",
    "    frozenset({2}): -0.2,\n",
    "    frozenset({3}): 0.3,\n",
    "    frozenset({0,1}): 0.4,\n",
    "    frozenset({1,2}): -0.5,\n",
    "    frozenset({0,1,2}): 0.7,           # Hyperkante\n",
    "}\n",
    "\n",
    "N = [0, 1, 2, 3]"
   ]
  },
  {
   "cell_type": "code",
   "execution_count": null,
   "id": "9e62c217",
   "metadata": {},
   "outputs": [],
   "source": [
    "result = greedy_coalition_finding(N = N, e_weights = e_weights, k_max = 3)"
   ]
  },
  {
   "cell_type": "code",
   "execution_count": null,
   "id": "e119b3f5",
   "metadata": {},
   "outputs": [
    {
     "name": "stdout",
     "output_type": "stream",
     "text": [
      "{1: ({1}, {2}), 2: ({0, 1}, {2, 3}), 3: ({0, 1, 3}, {0, 2, 3}), 4: ({0, 1, 2, 3}, {0, 1, 2, 3})}\n"
     ]
    }
   ],
   "source": [
    "print(result)"
   ]
  }
 ],
 "metadata": {
  "kernelspec": {
   "display_name": ".venv",
   "language": "python",
   "name": "python3"
  },
  "language_info": {
   "codemirror_mode": {
    "name": "ipython",
    "version": 3
   },
   "file_extension": ".py",
   "mimetype": "text/x-python",
   "name": "python",
   "nbconvert_exporter": "python",
   "pygments_lexer": "ipython3",
   "version": "3.13.3"
  }
 },
 "nbformat": 4,
 "nbformat_minor": 5
}
