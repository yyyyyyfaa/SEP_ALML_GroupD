{
 "cells": [
  {
   "cell_type": "code",
   "execution_count": 1,
   "id": "7498535b-8634-4aba-a42d-42c0f71af85d",
   "metadata": {},
   "outputs": [
    {
     "name": "stderr",
     "output_type": "stream",
     "text": [
      "c:\\Users\\tobib\\SEP_ALML_GroupD\\.venv\\Lib\\site-packages\\tqdm\\auto.py:21: TqdmWarning: IProgress not found. Please update jupyter and ipywidgets. See https://ipywidgets.readthedocs.io/en/stable/user_install.html\n",
      "  from .autonotebook import tqdm as notebook_tqdm\n"
     ]
    }
   ],
   "source": [
    "import numpy as np\n",
    "import pandas as pd\n",
    "from sklearn.metrics import accuracy_score\n",
    "\n",
    "from shapiq_student.knn_explainer2 import KNNExplainer\n",
    "import matplotlib.pyplot as plt\n",
    "from sklearn.neighbors import KNeighborsClassifier\n",
    "from sklearn.model_selection import train_test_split\n",
    "from shapiq_student.coalition_finding import greedy_coalition_finding"
   ]
  },
  {
   "cell_type": "code",
   "execution_count": 2,
   "id": "6f7c51ec-9579-4e43-8e82-c2539eb43109",
   "metadata": {},
   "outputs": [],
   "source": [
    "df = pd.read_csv(\"shapiq_student/movie_dataset.csv\")\n",
    "train_df, test_df = train_test_split(df, test_size=0.2, random_state=42)\n",
    "X_train = train_df[[\"fight_scenes\",\"kiss_scenes\"]].values\n",
    "y_train = train_df[\"label\"].values\n",
    "X_test = test_df[[\"fight_scenes\",\"kiss_scenes\"]].values\n",
    "y_test = test_df[\"label\"].values"
   ]
  },
  {
   "cell_type": "code",
   "execution_count": 3,
   "id": "36ccc260-11f9-4328-8347-3ac7f0c048c8",
   "metadata": {},
   "outputs": [],
   "source": [
    "knn = KNeighborsClassifier(n_neighbors=5)\n",
    "knn.fit(X_train, y_train)\n",
    "prediction = knn.predict(X_test)\n",
    "accuracy = accuracy_score(y_test, prediction)"
   ]
  },
  {
   "cell_type": "code",
   "execution_count": 4,
   "id": "aeec906d",
   "metadata": {},
   "outputs": [],
   "source": [
    "row = df[df['title'] == 'Love in Paris'].iloc[0]\n",
    "x_val = [row['fight_scenes'], row['kiss_scenes']]\n",
    "y_val = row['label']"
   ]
  },
  {
   "cell_type": "code",
   "execution_count": 5,
   "id": "7b99de54-d28c-45bf-8019-bca65abfb67a",
   "metadata": {},
   "outputs": [],
   "source": [
    "explainer = KNNExplainer(knn, X_train, y_train, \"weighted\")"
   ]
  },
  {
   "cell_type": "code",
   "execution_count": 6,
   "id": "58abd820-6683-4121-abc2-11a2391d297d",
   "metadata": {
    "scrolled": true
   },
   "outputs": [],
   "source": [
    "phi = explainer.weighted_knn_shapley(\n",
    "    x_val=x_val, y_val=y_val,\n",
    "    gamma=5, K=5)"
   ]
  },
  {
   "cell_type": "code",
   "execution_count": 7,
   "id": "54a3e322-51b2-4958-b1ef-0f475c9c59a5",
   "metadata": {},
   "outputs": [
    {
     "name": "stdout",
     "output_type": "stream",
     "text": [
      "[ 1.27949824  1.27949824  1.27949824  1.27949824  1.27949824  0.27949824\n",
      "  0.11283157  0.06521252  0.04735538  0.03941887  0.03545062  0.03328612\n",
      "  0.03202349  0.03124649  0.03074699 -0.05550826  0.0557372   0.0558988\n",
      "  0.05601551  0.05610151  0.05616601  0.05621515  0.05625313  0.05628285\n",
      "  0.05630637  0.05632519  0.0563404   0.05635278  0.05636296  0.05637138\n",
      "  0.0563784   0.05638428  0.05638925  0.05639346  0.05639706 -0.02952211]\n"
     ]
    }
   ],
   "source": [
    "print(phi)"
   ]
  },
  {
   "cell_type": "code",
   "execution_count": 8,
   "id": "b9485e63-7365-4bdc-b09e-d0664aae5b19",
   "metadata": {},
   "outputs": [],
   "source": [
    "e_weights = {\n",
    "    frozenset(): 0.0,                   # Basiswert e₀\n",
    "    frozenset({0}): 0.5,\n",
    "    frozenset({1}): 1.0,\n",
    "    frozenset({2}): -0.2,\n",
    "    frozenset({3}): 0.3,\n",
    "    frozenset({0,1}): 0.4,\n",
    "    frozenset({1,2}): -0.5,\n",
    "    frozenset({0,1,2}): 0.7,           # Hyperkante\n",
    "}\n",
    "\n",
    "N = [0, 1, 2, 3]"
   ]
  },
  {
   "cell_type": "code",
   "execution_count": 9,
   "id": "9e62c217",
   "metadata": {},
   "outputs": [],
   "source": [
    "result = greedy_coalition_finding(N = N, e_weights=e_weights, k_max = 4)"
   ]
  },
  {
   "cell_type": "code",
   "execution_count": null,
   "id": "e119b3f5",
   "metadata": {},
   "outputs": [
    {
     "name": "stdout",
     "output_type": "stream",
     "text": [
      "{1: ({1}, {1}), 2: ({0, 1}, {0, 1}), 3: ({0, 1, 3}, {0, 1, 3}), 4: ({0, 1, 2, 3}, {0, 1, 2, 3})}\n"
     ]
    }
   ],
   "source": [
    "print(result)"
   ]
  }
 ],
 "metadata": {
  "kernelspec": {
   "display_name": ".venv",
   "language": "python",
   "name": "python3"
  },
  "language_info": {
   "codemirror_mode": {
    "name": "ipython",
    "version": 3
   },
   "file_extension": ".py",
   "mimetype": "text/x-python",
   "name": "python",
   "nbconvert_exporter": "python",
   "pygments_lexer": "ipython3",
   "version": "3.13.3"
  }
 },
 "nbformat": 4,
 "nbformat_minor": 5
}
