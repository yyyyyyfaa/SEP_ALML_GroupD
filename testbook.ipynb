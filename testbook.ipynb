{
 "cells": [
  {
   "cell_type": "code",
   "id": "initial_id",
   "metadata": {
    "collapsed": true,
    "ExecuteTime": {
     "end_time": "2025-07-20T16:21:36.845760Z",
     "start_time": "2025-07-20T16:21:34.823188Z"
    }
   },
   "source": [
    "import numpy as np\n",
    "import pandas as pd\n",
    "\n",
    "from sklearn.metrics import accuracy_score\n",
    "\n",
    "from shapiq_student.knn_explainer import KNNExplainer\n",
    "from sklearn.neighbors import KNeighborsClassifier\n",
    "from sklearn.model_selection import train_test_split"
   ],
   "outputs": [],
   "execution_count": 1
  },
  {
   "metadata": {
    "ExecuteTime": {
     "end_time": "2025-07-20T16:21:37.054192Z",
     "start_time": "2025-07-20T16:21:37.048250Z"
    }
   },
   "cell_type": "code",
   "source": [
    "df = pd.read_csv(\"shapiq_student/movie_dataset.csv\")\n",
    "train_df, test_df = train_test_split(df, test_size=0.4, random_state=42)\n",
    "X_train = train_df[[\"fight_scenes\",\"kiss_scenes\"]].values\n",
    "y_train = train_df[\"label\"].values\n",
    "X_test = test_df[[\"fight_scenes\",\"kiss_scenes\"]].values\n",
    "y_test = test_df[\"label\"].values"
   ],
   "id": "3c9820db856b5673",
   "outputs": [],
   "execution_count": 2
  },
  {
   "metadata": {
    "ExecuteTime": {
     "end_time": "2025-07-20T16:21:37.068883Z",
     "start_time": "2025-07-20T16:21:37.064509Z"
    }
   },
   "cell_type": "code",
   "source": [
    "knn = KNeighborsClassifier(n_neighbors=5)\n",
    "knn.fit(X_train, y_train)\n",
    "prediction = knn.predict(X_test)\n",
    "accuracy = accuracy_score(y_test, prediction)"
   ],
   "id": "e0161ad8761b8ddd",
   "outputs": [],
   "execution_count": 3
  },
  {
   "metadata": {
    "ExecuteTime": {
     "end_time": "2025-07-20T16:21:37.074366Z",
     "start_time": "2025-07-20T16:21:37.071452Z"
    }
   },
   "cell_type": "code",
   "source": "explainer = KNNExplainer(knn, X_test, y_test, class_index= 1)",
   "id": "39167ff39380cc20",
   "outputs": [],
   "execution_count": 4
  },
  {
   "metadata": {
    "ExecuteTime": {
     "end_time": "2025-07-20T16:21:37.086460Z",
     "start_time": "2025-07-20T16:21:37.083689Z"
    }
   },
   "cell_type": "code",
   "source": [
    "phi = explainer.explain(x=X_test)\n",
    "print(phi)"
   ],
   "id": "a21d3578d6ccd47d",
   "outputs": [
    {
     "name": "stdout",
     "output_type": "stream",
     "text": [
      "InteractionValues(\n",
      "    index=SV, max_order=1, min_order=1, estimated=True, estimation_budget=None,\n",
      "    n_players=4, baseline_value=0.0,\n",
      "    Top 10 interactions:\n",
      "        (2,): 0.2375\n",
      "        (0,): 0.03749999999999999\n",
      "        (1,): 0.03749999999999999\n",
      "        (3,): 0.03749999999999999\n",
      ")\n"
     ]
    }
   ],
   "execution_count": 5
  }
 ],
 "metadata": {
  "kernelspec": {
   "display_name": "Python 3",
   "language": "python",
   "name": "python3"
  },
  "language_info": {
   "codemirror_mode": {
    "name": "ipython",
    "version": 2
   },
   "file_extension": ".py",
   "mimetype": "text/x-python",
   "name": "python",
   "nbconvert_exporter": "python",
   "pygments_lexer": "ipython2",
   "version": "2.7.6"
  }
 },
 "nbformat": 4,
 "nbformat_minor": 5
}
