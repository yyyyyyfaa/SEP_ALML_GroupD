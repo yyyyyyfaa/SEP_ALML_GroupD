{
 "cells": [
  {
   "cell_type": "code",
   "id": "initial_id",
   "metadata": {
    "collapsed": true,
    "ExecuteTime": {
     "end_time": "2025-07-02T20:14:59.327598Z",
     "start_time": "2025-07-02T20:14:56.469568Z"
    }
   },
   "source": [
    "import numpy as np\n",
    "import pandas as pd\n",
    "\n",
    "from sklearn.metrics import accuracy_score\n",
    "\n",
    "from shapiq_student.knn_explainer import KNNExplainer\n",
    "from sklearn.neighbors import KNeighborsClassifier\n",
    "from sklearn.model_selection import train_test_split\n",
    "from shapiq_student.knn_shapley2 import KNNExplainer2"
   ],
   "outputs": [],
   "execution_count": 1
  },
  {
   "metadata": {
    "ExecuteTime": {
     "end_time": "2025-07-02T20:14:59.585285Z",
     "start_time": "2025-07-02T20:14:59.573740Z"
    }
   },
   "cell_type": "code",
   "source": [
    "df = pd.read_csv(\"shapiq_student/movie_dataset.csv\")\n",
    "train_df, test_df = train_test_split(df, test_size=0.4, random_state=42)\n",
    "X_train = train_df[[\"fight_scenes\",\"kiss_scenes\"]].values.astype(np.float64)\n",
    "y_train = train_df[\"label\"].values\n",
    "X_test = test_df[[\"fight_scenes\",\"kiss_scenes\"]].values.astype(np.float64)\n",
    "\n",
    "y_test = test_df[\"label\"].values\n",
    "\n",
    "print(X_train)\n",
    "print(X_test)"
   ],
   "id": "fe4dbf0e69253e29",
   "outputs": [
    {
     "name": "stdout",
     "output_type": "stream",
     "text": [
      "[[ 7.  1.]\n",
      " [ 0. 10.]\n",
      " [ 8.  3.]\n",
      " [ 9.  1.]\n",
      " [ 1.  7.]\n",
      " [ 8.  2.]]\n",
      "[[ 2.  6.]\n",
      " [ 2.  8.]\n",
      " [10.  0.]\n",
      " [ 1.  9.]]\n"
     ]
    }
   ],
   "execution_count": 2
  },
  {
   "metadata": {
    "ExecuteTime": {
     "end_time": "2025-07-02T20:15:00.953133Z",
     "start_time": "2025-07-02T20:14:59.602533Z"
    }
   },
   "cell_type": "code",
   "source": [
    "knn = KNeighborsClassifier(n_neighbors=5)\n",
    "knn.fit(X_train, y_train)\n",
    "prediction = knn.predict(X_test)\n",
    "accuracy = accuracy_score(y_test, prediction)\n",
    "print(X_train)\n",
    "print(X_test)"
   ],
   "id": "75e69ae4f569112d",
   "outputs": [
    {
     "name": "stdout",
     "output_type": "stream",
     "text": [
      "[[ 7.  1.]\n",
      " [ 0. 10.]\n",
      " [ 8.  3.]\n",
      " [ 9.  1.]\n",
      " [ 1.  7.]\n",
      " [ 8.  2.]]\n",
      "[[ 2.  6.]\n",
      " [ 2.  8.]\n",
      " [10.  0.]\n",
      " [ 1.  9.]]\n"
     ]
    }
   ],
   "execution_count": 3
  },
  {
   "metadata": {
    "ExecuteTime": {
     "end_time": "2025-07-02T19:30:13.301711Z",
     "start_time": "2025-07-02T19:30:13.297740Z"
    }
   },
   "cell_type": "code",
   "source": "explainer = KNNExplainer(knn, X_train, y_train)",
   "id": "7c5ebe4e7624ab01",
   "outputs": [],
   "execution_count": 4
  },
  {
   "metadata": {
    "ExecuteTime": {
     "end_time": "2025-07-02T19:30:14.336872Z",
     "start_time": "2025-07-02T19:30:13.333562Z"
    }
   },
   "cell_type": "code",
   "source": "phi = explainer.explain(x=X_test)",
   "id": "689cc6c634b6c4da",
   "outputs": [
    {
     "ename": "TypeError",
     "evalue": "cannot unpack non-iterable int object",
     "output_type": "error",
     "traceback": [
      "\u001B[31m---------------------------------------------------------------------------\u001B[39m",
      "\u001B[31mTypeError\u001B[39m                                 Traceback (most recent call last)",
      "\u001B[36mCell\u001B[39m\u001B[36m \u001B[39m\u001B[32mIn[5]\u001B[39m\u001B[32m, line 1\u001B[39m\n\u001B[32m----> \u001B[39m\u001B[32m1\u001B[39m phi = \u001B[43mexplainer\u001B[49m\u001B[43m.\u001B[49m\u001B[43mexplain\u001B[49m\u001B[43m(\u001B[49m\u001B[43mx\u001B[49m\u001B[43m=\u001B[49m\u001B[43mX_test\u001B[49m\u001B[43m)\u001B[49m\n",
      "\u001B[36mFile \u001B[39m\u001B[32m~\\PycharmProjects\\SEP_ALML_GroupD\\shapiq_student\\knn_explainer.py:49\u001B[39m, in \u001B[36mKNNExplainer.explain\u001B[39m\u001B[34m(self, x, *args, **kwargs)\u001B[39m\n\u001B[32m     47\u001B[39m     shapley_values = \u001B[38;5;28mself\u001B[39m.weighted_knn_shapley(x, gamma)\n\u001B[32m     48\u001B[39m \u001B[38;5;28;01melse\u001B[39;00m:\n\u001B[32m---> \u001B[39m\u001B[32m49\u001B[39m     shapley_values = \u001B[38;5;28;43mself\u001B[39;49m\u001B[43m.\u001B[49m\u001B[43mknn_shapley\u001B[49m\u001B[43m.\u001B[49m\u001B[43mknn_shapley\u001B[49m\u001B[43m(\u001B[49m\u001B[43mx\u001B[49m\u001B[43m)\u001B[49m\n\u001B[32m     51\u001B[39m n_features = x.shape[\u001B[32m1\u001B[39m] \u001B[38;5;28;01mif\u001B[39;00m \u001B[38;5;28mlen\u001B[39m(x.shape) > \u001B[32m1\u001B[39m \u001B[38;5;28;01melse\u001B[39;00m x.shape[\u001B[32m0\u001B[39m]\n\u001B[32m     52\u001B[39m \u001B[38;5;28mprint\u001B[39m(n_features)\n",
      "\u001B[36mFile \u001B[39m\u001B[32m~\\PycharmProjects\\SEP_ALML_GroupD\\shapiq_student\\knn_shapley.py:56\u001B[39m, in \u001B[36mKNNShapley.knn_shapley\u001B[39m\u001B[34m(self, x, K)\u001B[39m\n\u001B[32m     53\u001B[39m shap_values = np.zeros(N)\n\u001B[32m     55\u001B[39m \u001B[38;5;66;03m# process each test point\u001B[39;00m\n\u001B[32m---> \u001B[39m\u001B[32m56\u001B[39m \u001B[38;5;28;01mfor\u001B[39;00m x_t, y_t \u001B[38;5;129;01min\u001B[39;00m \u001B[38;5;28mrange\u001B[39m(n_test):\n\u001B[32m     57\u001B[39m     dists = np.linalg.norm(X_train - x_t, axis=\u001B[32m1\u001B[39m)\n\u001B[32m     58\u001B[39m     \u001B[38;5;66;03m# sort by dist from small to large\u001B[39;00m\n",
      "\u001B[31mTypeError\u001B[39m: cannot unpack non-iterable int object"
     ]
    }
   ],
   "execution_count": 5
  },
  {
   "metadata": {
    "ExecuteTime": {
     "end_time": "2025-07-02T19:30:14.359822600Z",
     "start_time": "2025-07-02T19:20:54.466864Z"
    }
   },
   "cell_type": "code",
   "source": "print(phi)",
   "id": "cc3bf3169fa7c235",
   "outputs": [
    {
     "name": "stdout",
     "output_type": "stream",
     "text": [
      "InteractionValues(\n",
      "    index=SV, max_order=1, min_order=1, estimated=True, estimation_budget=None,\n",
      "    n_players=2, baseline_value=0.0,\n",
      "    Top 10 interactions:\n",
      "        (0,): 0.0\n",
      "        (1,): 0.0\n",
      ")\n"
     ]
    }
   ],
   "execution_count": 7
  },
  {
   "metadata": {},
   "cell_type": "markdown",
   "source": "Shapley Wang",
   "id": "51b90b001e2e2a53"
  },
  {
   "metadata": {
    "ExecuteTime": {
     "end_time": "2025-07-02T20:15:03.707011Z",
     "start_time": "2025-07-02T20:15:03.700359Z"
    }
   },
   "cell_type": "code",
   "source": [
    "explainer = KNNExplainer2(knn, X_train, y_train)\n",
    "print(X_train)\n",
    "print(X_test)"
   ],
   "id": "2448398588d2e40c",
   "outputs": [
    {
     "name": "stdout",
     "output_type": "stream",
     "text": [
      "[[ 7.  1.]\n",
      " [ 0. 10.]\n",
      " [ 8.  3.]\n",
      " [ 9.  1.]\n",
      " [ 1.  7.]\n",
      " [ 8.  2.]]\n",
      "[[ 2.  6.]\n",
      " [ 2.  8.]\n",
      " [10.  0.]\n",
      " [ 1.  9.]]\n"
     ]
    }
   ],
   "execution_count": 4
  },
  {
   "metadata": {
    "ExecuteTime": {
     "end_time": "2025-07-02T20:15:05.032520Z",
     "start_time": "2025-07-02T20:15:04.174216Z"
    }
   },
   "cell_type": "code",
   "source": "phi = explainer.explain(x_train_few=X_train, y_train_few=y_train, x_val_few=X_test, y_val_few=y_test, K=10, dis_metric='cosine')",
   "id": "1020e734e0ab807f",
   "outputs": [
    {
     "ename": "UFuncTypeError",
     "evalue": "ufunc 'multiply' did not contain a loop with signature matching types (dtype('<U11'), dtype('<U9')) -> None",
     "output_type": "error",
     "traceback": [
      "\u001B[31m---------------------------------------------------------------------------\u001B[39m",
      "\u001B[31mUFuncTypeError\u001B[39m                            Traceback (most recent call last)",
      "\u001B[36mCell\u001B[39m\u001B[36m \u001B[39m\u001B[32mIn[5]\u001B[39m\u001B[32m, line 1\u001B[39m\n\u001B[32m----> \u001B[39m\u001B[32m1\u001B[39m phi = \u001B[43mexplainer\u001B[49m\u001B[43m.\u001B[49m\u001B[43mexplain\u001B[49m\u001B[43m(\u001B[49m\u001B[43mx_train_few\u001B[49m\u001B[43m=\u001B[49m\u001B[43mX_train\u001B[49m\u001B[43m,\u001B[49m\u001B[43m \u001B[49m\u001B[43my_train_few\u001B[49m\u001B[43m=\u001B[49m\u001B[43my_train\u001B[49m\u001B[43m,\u001B[49m\u001B[43m \u001B[49m\u001B[43mx_val_few\u001B[49m\u001B[43m=\u001B[49m\u001B[43mX_test\u001B[49m\u001B[43m,\u001B[49m\u001B[43m \u001B[49m\u001B[43my_val_few\u001B[49m\u001B[43m=\u001B[49m\u001B[43my_test\u001B[49m\u001B[43m,\u001B[49m\u001B[43m \u001B[49m\u001B[43mK\u001B[49m\u001B[43m=\u001B[49m\u001B[32;43m10\u001B[39;49m\u001B[43m,\u001B[49m\u001B[43m \u001B[49m\u001B[43mdis_metric\u001B[49m\u001B[43m=\u001B[49m\u001B[33;43m'\u001B[39;49m\u001B[33;43mcosine\u001B[39;49m\u001B[33;43m'\u001B[39;49m\u001B[43m)\u001B[49m\n",
      "\u001B[36mFile \u001B[39m\u001B[32m~\\PycharmProjects\\SEP_ALML_GroupD\\shapiq_student\\knn_shapley2.py:59\u001B[39m, in \u001B[36mKNNExplainer2.explain\u001B[39m\u001B[34m(self, x, *args, **kwargs)\u001B[39m\n\u001B[32m     57\u001B[39m     K = [\u001B[33m\"\u001B[39m\u001B[33mK\u001B[39m\u001B[33m\"\u001B[39m]\n\u001B[32m     58\u001B[39m     dis_metric = [\u001B[33m\"\u001B[39m\u001B[33mdis_metric\u001B[39m\u001B[33m\"\u001B[39m]\n\u001B[32m---> \u001B[39m\u001B[32m59\u001B[39m     shapley_values = \u001B[38;5;28;43mself\u001B[39;49m\u001B[43m.\u001B[49m\u001B[43mknn_shapley_RJ\u001B[49m\u001B[43m(\u001B[49m\u001B[43mx_train_few\u001B[49m\u001B[43m,\u001B[49m\u001B[43m \u001B[49m\u001B[43my_train_few\u001B[49m\u001B[43m,\u001B[49m\u001B[43m \u001B[49m\u001B[43mx_val_few\u001B[49m\u001B[43m,\u001B[49m\u001B[43m \u001B[49m\u001B[43my_val_few\u001B[49m\u001B[43m,\u001B[49m\u001B[43m \u001B[49m\u001B[43mK\u001B[49m\u001B[43m,\u001B[49m\u001B[43m \u001B[49m\u001B[43mdis_metric\u001B[49m\u001B[43m=\u001B[49m\u001B[33;43m'\u001B[39;49m\u001B[33;43mcosine\u001B[39;49m\u001B[33;43m'\u001B[39;49m\u001B[43m)\u001B[49m\n\u001B[32m     61\u001B[39m n_features = x.shape[\u001B[32m1\u001B[39m] \u001B[38;5;28;01mif\u001B[39;00m \u001B[38;5;28mlen\u001B[39m(x.shape) > \u001B[32m1\u001B[39m \u001B[38;5;28;01melse\u001B[39;00m x.shape[\u001B[32m0\u001B[39m]\n\u001B[32m     62\u001B[39m \u001B[38;5;28mprint\u001B[39m(n_features)\n",
      "\u001B[36mFile \u001B[39m\u001B[32m~\\PycharmProjects\\SEP_ALML_GroupD\\shapiq_student\\knn_shapley2.py:105\u001B[39m, in \u001B[36mKNNExplainer2.knn_shapley_RJ\u001B[39m\u001B[34m(self, x_train_few, y_train_few, x_val_few, y_val_few, K, dis_metric)\u001B[39m\n\u001B[32m    103\u001B[39m \u001B[38;5;28;01mfor\u001B[39;00m i \u001B[38;5;129;01min\u001B[39;00m \u001B[38;5;28mrange\u001B[39m(n_test):\n\u001B[32m    104\u001B[39m     x_test, y_test = x_val_few[i], y_val_few[i]\n\u001B[32m--> \u001B[39m\u001B[32m105\u001B[39m     sv += \u001B[38;5;28;43mself\u001B[39;49m\u001B[43m.\u001B[49m\u001B[43mknn_shapley_RJ_single\u001B[49m\u001B[43m(\u001B[49m\u001B[43mx_train_few\u001B[49m\u001B[43m,\u001B[49m\u001B[43m \u001B[49m\u001B[43my_train_few\u001B[49m\u001B[43m,\u001B[49m\u001B[43m \u001B[49m\u001B[43mx_test\u001B[49m\u001B[43m,\u001B[49m\u001B[43m \u001B[49m\u001B[43my_test\u001B[49m\u001B[43m,\u001B[49m\u001B[43m \u001B[49m\u001B[43mK\u001B[49m\u001B[43m,\u001B[49m\u001B[43m \u001B[49m\u001B[43mdis_metric\u001B[49m\u001B[43m=\u001B[49m\u001B[33;43m'\u001B[39;49m\u001B[33;43mcosine\u001B[39;49m\u001B[33;43m'\u001B[39;49m\u001B[43m)\u001B[49m\n\u001B[32m    107\u001B[39m \u001B[38;5;28;01mreturn\u001B[39;00m sv\n",
      "\u001B[36mFile \u001B[39m\u001B[32m~\\PycharmProjects\\SEP_ALML_GroupD\\shapiq_student\\knn_shapley2.py:86\u001B[39m, in \u001B[36mKNNExplainer2.knn_shapley_RJ_single\u001B[39m\u001B[34m(self, x_train_few, y_train_few, x_test, y_test, K, dis_metric)\u001B[39m\n\u001B[32m     84\u001B[39m N = \u001B[38;5;28mlen\u001B[39m(y_train_few)\n\u001B[32m     85\u001B[39m sv = np.zeros(N)\n\u001B[32m---> \u001B[39m\u001B[32m86\u001B[39m rank = \u001B[38;5;28;43mself\u001B[39;49m\u001B[43m.\u001B[49m\u001B[43mrank_neighbor\u001B[49m\u001B[43m(\u001B[49m\u001B[43mx_test\u001B[49m\u001B[43m,\u001B[49m\u001B[43m \u001B[49m\u001B[43mx_train_few\u001B[49m\u001B[43m,\u001B[49m\u001B[43m \u001B[49m\u001B[43mdis_metric\u001B[49m\u001B[43m=\u001B[49m\u001B[43mdis_metric\u001B[49m\u001B[43m)\u001B[49m\n\u001B[32m     87\u001B[39m sv[\u001B[38;5;28mint\u001B[39m(rank[-\u001B[32m1\u001B[39m])] += \u001B[38;5;28mint\u001B[39m(y_test == y_train_few[\u001B[38;5;28mint\u001B[39m(rank[-\u001B[32m1\u001B[39m])]) / N\n\u001B[32m     89\u001B[39m \u001B[38;5;28;01mfor\u001B[39;00m j \u001B[38;5;129;01min\u001B[39;00m \u001B[38;5;28mrange\u001B[39m(\u001B[32m2\u001B[39m, N + \u001B[32m1\u001B[39m):\n",
      "\u001B[36mFile \u001B[39m\u001B[32m~\\PycharmProjects\\SEP_ALML_GroupD\\shapiq_student\\knn_shapley2.py:76\u001B[39m, in \u001B[36mKNNExplainer2.rank_neighbor\u001B[39m\u001B[34m(self, x_test, x_train, dis_metric)\u001B[39m\n\u001B[32m     74\u001B[39m \u001B[38;5;28;01mdef\u001B[39;00m\u001B[38;5;250m \u001B[39m\u001B[34mrank_neighbor\u001B[39m(\u001B[38;5;28mself\u001B[39m, x_test, x_train, dis_metric=\u001B[33m'\u001B[39m\u001B[33mcosine\u001B[39m\u001B[33m'\u001B[39m):\n\u001B[32m     75\u001B[39m     \u001B[38;5;28;01mif\u001B[39;00m dis_metric == \u001B[33m'\u001B[39m\u001B[33mcosine\u001B[39m\u001B[33m'\u001B[39m:\n\u001B[32m---> \u001B[39m\u001B[32m76\u001B[39m         distance = -\u001B[43mnp\u001B[49m\u001B[43m.\u001B[49m\u001B[43mdot\u001B[49m\u001B[43m(\u001B[49m\u001B[43mx_train\u001B[49m\u001B[43m,\u001B[49m\u001B[43m \u001B[49m\u001B[43mx_test\u001B[49m\u001B[43m)\u001B[49m / np.linalg.norm(x_train, axis=\u001B[32m1\u001B[39m)\n\u001B[32m     77\u001B[39m     \u001B[38;5;28;01melse\u001B[39;00m:\n\u001B[32m     78\u001B[39m         distance = np.array([np.linalg.norm(x - x_test) \u001B[38;5;28;01mfor\u001B[39;00m x \u001B[38;5;129;01min\u001B[39;00m x_train])\n",
      "\u001B[31mUFuncTypeError\u001B[39m: ufunc 'multiply' did not contain a loop with signature matching types (dtype('<U11'), dtype('<U9')) -> None"
     ]
    }
   ],
   "execution_count": 5
  },
  {
   "metadata": {
    "ExecuteTime": {
     "end_time": "2025-07-02T20:13:29.314701Z",
     "start_time": "2025-07-02T20:13:29.291794Z"
    }
   },
   "cell_type": "code",
   "source": "print(phi)",
   "id": "e20745d459df77ad",
   "outputs": [
    {
     "ename": "NameError",
     "evalue": "name 'phi' is not defined",
     "output_type": "error",
     "traceback": [
      "\u001B[31m---------------------------------------------------------------------------\u001B[39m",
      "\u001B[31mNameError\u001B[39m                                 Traceback (most recent call last)",
      "\u001B[36mCell\u001B[39m\u001B[36m \u001B[39m\u001B[32mIn[6]\u001B[39m\u001B[32m, line 1\u001B[39m\n\u001B[32m----> \u001B[39m\u001B[32m1\u001B[39m \u001B[38;5;28mprint\u001B[39m(\u001B[43mphi\u001B[49m)\n",
      "\u001B[31mNameError\u001B[39m: name 'phi' is not defined"
     ]
    }
   ],
   "execution_count": 6
  },
  {
   "metadata": {},
   "cell_type": "code",
   "outputs": [],
   "execution_count": null,
   "source": "",
   "id": "23fd9b6a6a2e3ac"
  }
 ],
 "metadata": {
  "kernelspec": {
   "display_name": "Python 3",
   "language": "python",
   "name": "python3"
  },
  "language_info": {
   "codemirror_mode": {
    "name": "ipython",
    "version": 2
   },
   "file_extension": ".py",
   "mimetype": "text/x-python",
   "name": "python",
   "nbconvert_exporter": "python",
   "pygments_lexer": "ipython2",
   "version": "2.7.6"
  }
 },
 "nbformat": 4,
 "nbformat_minor": 5
}
