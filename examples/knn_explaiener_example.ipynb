{
 "cells": [
  {
   "cell_type": "markdown",
   "id": "5be1f588",
   "metadata": {},
   "source": [
    "\n",
    "# KNN-Explainer Example-Notebook\n",
    "\n",
    "This Notebook shows the three diffrent KNN-Explainers and how to use them."
   ]
  },
  {
   "cell_type": "markdown",
   "id": "972dcda3",
   "metadata": {},
   "source": [
    "Imports:"
   ]
  },
  {
   "cell_type": "code",
   "execution_count": 1,
   "id": "3453e437",
   "metadata": {},
   "outputs": [],
   "source": [
    "from __future__ import annotations\n",
    "\n",
    "import os\n",
    "import sys\n",
    "\n",
    "notebook_dir = os.getcwd()\n",
    "project_root = os.path.abspath(os.path.join(notebook_dir, \"..\"))\n",
    "sys.path.insert(0, project_root)"
   ]
  },
  {
   "cell_type": "code",
   "execution_count": 2,
   "id": "ba6c8830",
   "metadata": {},
   "outputs": [
    {
     "name": "stderr",
     "output_type": "stream",
     "text": [
      "c:\\Users\\tobib\\SEP_ALML_GroupD\\.venv\\Lib\\site-packages\\tqdm\\auto.py:21: TqdmWarning: IProgress not found. Please update jupyter and ipywidgets. See https://ipywidgets.readthedocs.io/en/stable/user_install.html\n",
      "  from .autonotebook import tqdm as notebook_tqdm\n"
     ]
    }
   ],
   "source": [
    "import numpy as np\n",
    "from sklearn.neighbors import KNeighborsClassifier\n",
    "from shapiq import InteractionValues\n",
    "from sklearn.model_selection import train_test_split\n",
    "import pandas as pd\n",
    "\n",
    "from shapiq_student.knn_explainer import KNNExplainer\n",
    "from shapiq_student.knn_shapley import KNNShapley\n",
    "from shapiq_student.threshold import Threshold\n",
    "from shapiq_student.wknn_explainer import Weighted"
   ]
  },
  {
   "cell_type": "code",
   "execution_count": 4,
   "id": "ef5e45a2",
   "metadata": {},
   "outputs": [],
   "source": [
    "df = pd.read_csv(\"movie_dataset.csv\")\n",
    "train_df, test_df = train_test_split(df, test_size=0.4, random_state=42)\n",
    "X_train = train_df[[\"fight_scenes\",\"kiss_scenes\"]].values\n",
    "y_train = train_df[\"label\"].values\n",
    "X_test = test_df[[\"fight_scenes\",\"kiss_scenes\"]].values\n",
    "y_test = test_df[\"label\"].values"
   ]
  },
  {
   "cell_type": "code",
   "execution_count": 5,
   "id": "1e863953",
   "metadata": {},
   "outputs": [],
   "source": [
    "knn = KNeighborsClassifier(n_neighbors=5)\n",
    "knn.fit(X_train, y_train)\n",
    "prediction = knn.predict(X_test)"
   ]
  },
  {
   "cell_type": "code",
   "execution_count": 7,
   "id": "4f352fd5",
   "metadata": {},
   "outputs": [],
   "source": [
    "knn = KNNExplainer(knn, X_train, y_train)"
   ]
  },
  {
   "cell_type": "code",
   "execution_count": 10,
   "id": "4fea1233",
   "metadata": {},
   "outputs": [
    {
     "ename": "AttributeError",
     "evalue": "'KNNExplainer' object has no attribute 'knn_shapley'",
     "output_type": "error",
     "traceback": [
      "\u001b[31m---------------------------------------------------------------------------\u001b[39m",
      "\u001b[31mAttributeError\u001b[39m                            Traceback (most recent call last)",
      "\u001b[36mCell\u001b[39m\u001b[36m \u001b[39m\u001b[32mIn[10]\u001b[39m\u001b[32m, line 1\u001b[39m\n\u001b[32m----> \u001b[39m\u001b[32m1\u001b[39m phi = \u001b[43mknn\u001b[49m\u001b[43m.\u001b[49m\u001b[43mexplain\u001b[49m\u001b[43m(\u001b[49m\u001b[43mX_test\u001b[49m\u001b[43m)\u001b[49m\n",
      "\u001b[36mFile \u001b[39m\u001b[32mc:\\Users\\tobib\\SEP_ALML_GroupD\\shapiq_student\\knn_explainer.py:76\u001b[39m, in \u001b[36mKNNExplainer.explain\u001b[39m\u001b[34m(self, x, *args, **kwargs)\u001b[39m\n\u001b[32m     74\u001b[39m     shapley_values = \u001b[38;5;28mself\u001b[39m.weighted_knn_shapley(x, gamma)\n\u001b[32m     75\u001b[39m \u001b[38;5;28;01melse\u001b[39;00m:\n\u001b[32m---> \u001b[39m\u001b[32m76\u001b[39m     shapley_values = \u001b[38;5;28;43mself\u001b[39;49m\u001b[43m.\u001b[49m\u001b[43mknn_shapley\u001b[49m(x)\n\u001b[32m     78\u001b[39m n_samples = \u001b[38;5;28mself\u001b[39m.dataset.shape[\u001b[32m0\u001b[39m]\n\u001b[32m     79\u001b[39m interaction_values = InteractionValues(\n\u001b[32m     80\u001b[39m     values=np.array(shapley_values),\n\u001b[32m     81\u001b[39m     n_players=n_samples,\n\u001b[32m   (...)\u001b[39m\u001b[32m     85\u001b[39m     baseline_value=\u001b[32m0.0\u001b[39m,\n\u001b[32m     86\u001b[39m )\n",
      "\u001b[31mAttributeError\u001b[39m: 'KNNExplainer' object has no attribute 'knn_shapley'"
     ]
    }
   ],
   "source": [
    "phi = knn.explain(X_test)"
   ]
  },
  {
   "cell_type": "code",
   "execution_count": null,
   "id": "033906bd",
   "metadata": {},
   "outputs": [],
   "source": []
  }
 ],
 "metadata": {
  "kernelspec": {
   "display_name": ".venv",
   "language": "python",
   "name": "python3"
  },
  "language_info": {
   "codemirror_mode": {
    "name": "ipython",
    "version": 3
   },
   "file_extension": ".py",
   "mimetype": "text/x-python",
   "name": "python",
   "nbconvert_exporter": "python",
   "pygments_lexer": "ipython3",
   "version": "3.13.3"
  }
 },
 "nbformat": 4,
 "nbformat_minor": 5
}
