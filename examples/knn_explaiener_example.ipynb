{
 "cells": [
  {
   "cell_type": "markdown",
   "id": "5be1f588",
   "metadata": {},
   "source": [
    "\n",
    "# KNN-Explainer Example-Notebook\n",
    "\n",
    "This Notebook shows the three diffrent KNN-Explainers and how to use them."
   ]
  },
  {
   "cell_type": "markdown",
   "id": "972dcda3",
   "metadata": {},
   "source": [
    "Imports:"
   ]
  },
  {
   "cell_type": "code",
   "execution_count": 1,
   "id": "3453e437",
   "metadata": {},
   "outputs": [],
   "source": [
    "from __future__ import annotations\n",
    "\n",
    "import os\n",
    "import sys\n",
    "\n",
    "notebook_dir = os.getcwd()\n",
    "project_root = os.path.abspath(os.path.join(notebook_dir, \"..\"))\n",
    "sys.path.insert(0, project_root)"
   ]
  },
  {
   "cell_type": "code",
   "execution_count": 2,
   "id": "ba6c8830",
   "metadata": {},
   "outputs": [],
   "source": [
    "import numpy as np\n",
    "from sklearn.neighbors import KNeighborsClassifier, RadiusNeighborsClassifier\n",
    "from shapiq import InteractionValues\n",
    "from sklearn.model_selection import train_test_split\n",
    "import pandas as pd\n",
    "\n",
    "from shapiq_student.knn_explainer import KNNExplainer\n",
    "from shapiq_student.knn_shapley import KNNShapley\n",
    "from shapiq_student.threshold import Threshold\n",
    "from shapiq_student.wknn_explainer import Weighted"
   ]
  },
  {
   "cell_type": "code",
   "execution_count": 3,
   "id": "ef5e45a2",
   "metadata": {},
   "outputs": [],
   "source": [
    "df = pd.read_csv(\"movie_dataset.csv\")\n",
    "train_df, test_df = train_test_split(df, test_size=0.4, random_state=42)\n",
    "X_train = train_df[[\"fight_scenes\",\"kiss_scenes\"]].values\n",
    "y_train = train_df[\"label\"].values\n",
    "X_test = test_df[[\"fight_scenes\",\"kiss_scenes\"]].values\n",
    "y_test = test_df[\"label\"].values"
   ]
  },
  {
   "cell_type": "code",
   "execution_count": null,
   "id": "1e863953",
   "metadata": {},
   "outputs": [],
   "source": [
    "knnT = RadiusNeighborsClassifier(15.0)\n",
    "knnT.fit(X_train, y_train)\n",
    "prediction = knnT.predict(X_test)"
   ]
  },
  {
   "cell_type": "code",
   "execution_count": null,
   "id": "4f352fd5",
   "metadata": {},
   "outputs": [
    {
     "name": "stderr",
     "output_type": "stream",
     "text": [
      "c:\\Users\\Test\\anaconda3\\Lib\\site-packages\\shapiq\\explainer\\base.py:130: UserWarning: The `data` and the model must be compatible. The model's prediction must be a 1-dimensional array.\n",
      "  validate_data_predict_function(data, predict_function=self.predict, raise_error=False)\n"
     ]
    }
   ],
   "source": [
    "explainer = KNNExplainer(knnT, X_train, y_train, class_index=y_test)"
   ]
  },
  {
   "cell_type": "code",
   "execution_count": 9,
   "id": "4fea1233",
   "metadata": {},
   "outputs": [],
   "source": [
    "phi = explainer.explain(x=X_test)"
   ]
  },
  {
   "cell_type": "code",
   "execution_count": null,
   "id": "033906bd",
   "metadata": {},
   "outputs": [],
   "source": []
  }
 ],
 "metadata": {
  "kernelspec": {
   "display_name": "base",
   "language": "python",
   "name": "python3"
  },
  "language_info": {
   "codemirror_mode": {
    "name": "ipython",
    "version": 3
   },
   "file_extension": ".py",
   "mimetype": "text/x-python",
   "name": "python",
   "nbconvert_exporter": "python",
   "pygments_lexer": "ipython3",
   "version": "3.12.7"
  }
 },
 "nbformat": 4,
 "nbformat_minor": 5
}
