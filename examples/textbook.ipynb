{
 "cells": [
  {
   "cell_type": "code",
   "id": "initial_id",
   "metadata": {
    "collapsed": true,
    "ExecuteTime": {
     "end_time": "2025-07-03T19:58:31.124118Z",
     "start_time": "2025-07-03T19:58:27.988654Z"
    }
   },
   "source": [
    "import numpy as np\n",
    "import pandas as pd\n",
    "\n",
    "from sklearn.metrics import accuracy_score\n",
    "\n",
    "from shapiq_student.knn_explainer import KNNExplainer\n",
    "from sklearn.neighbors import KNeighborsClassifier\n",
    "from sklearn.model_selection import train_test_split\n",
    "\n",
    "from tests_grading.conftest import x_explain\n"
   ],
   "outputs": [],
   "execution_count": 1
  },
  {
   "metadata": {
    "ExecuteTime": {
     "end_time": "2025-07-03T19:58:31.365317Z",
     "start_time": "2025-07-03T19:58:31.357723Z"
    }
   },
   "cell_type": "code",
   "source": [
    "df = pd.read_csv(\"shapiq_student/movie_dataset.csv\")\n",
    "train_df, test_df = train_test_split(df, test_size=0.4, random_state=42)\n",
    "X_train = train_df[[\"fight_scenes\",\"kiss_scenes\"]].values\n",
    "y_train = train_df[\"label\"].values\n",
    "X_test = test_df[[\"fight_scenes\",\"kiss_scenes\"]].values\n",
    "\n",
    "y_test = test_df[\"label\"].values"
   ],
   "id": "bfc20fe70120dfcc",
   "outputs": [],
   "execution_count": 2
  },
  {
   "metadata": {
    "ExecuteTime": {
     "end_time": "2025-07-03T19:58:31.386179Z",
     "start_time": "2025-07-03T19:58:31.380879Z"
    }
   },
   "cell_type": "code",
   "source": [
    "knn = KNeighborsClassifier(n_neighbors=5)\n",
    "knn.fit(X_train, y_train)\n",
    "prediction = knn.predict(X_test)\n",
    "accuracy = accuracy_score(y_test, prediction)"
   ],
   "id": "35ca4a246d5d24e9",
   "outputs": [],
   "execution_count": 3
  },
  {
   "metadata": {
    "ExecuteTime": {
     "end_time": "2025-07-03T19:58:31.407562Z",
     "start_time": "2025-07-03T19:58:31.403535Z"
    }
   },
   "cell_type": "code",
   "source": "explainer = KNNExplainer(knn, X_train, y_train)",
   "id": "3215ca234aa61185",
   "outputs": [],
   "execution_count": 4
  },
  {
   "metadata": {
    "ExecuteTime": {
     "end_time": "2025-07-03T19:58:31.424918Z",
     "start_time": "2025-07-03T19:58:31.421747Z"
    }
   },
   "cell_type": "code",
   "source": "phi = explainer.explain(x=X_test)",
   "id": "b74f3b25a83cb4a",
   "outputs": [
    {
     "name": "stdout",
     "output_type": "stream",
     "text": [
      "[[ 2  6]\n",
      " [ 2  8]\n",
      " [10  0]\n",
      " [ 1  9]]\n",
      "y_test [[[ 2  6]\n",
      "  [ 2  8]\n",
      "  [10  0]\n",
      "  [ 1  9]]]\n",
      "2\n",
      "[0. 0. 0. 0. 0. 0.] shapley values\n"
     ]
    }
   ],
   "execution_count": 5
  },
  {
   "metadata": {
    "ExecuteTime": {
     "end_time": "2025-07-03T19:58:31.464853Z",
     "start_time": "2025-07-03T19:58:31.461589Z"
    }
   },
   "cell_type": "code",
   "source": "print(phi)",
   "id": "22579d332167392f",
   "outputs": [
    {
     "name": "stdout",
     "output_type": "stream",
     "text": [
      "InteractionValues(\n",
      "    index=SV, max_order=1, min_order=1, estimated=True, estimation_budget=None,\n",
      "    n_players=2, baseline_value=0.0,\n",
      "    Top 10 interactions:\n",
      "        (0,): 0.0\n",
      "        (1,): 0.0\n",
      ")\n"
     ]
    }
   ],
   "execution_count": 6
  },
  {
   "metadata": {
    "ExecuteTime": {
     "end_time": "2025-07-03T19:58:31.493330Z",
     "start_time": "2025-07-03T19:58:31.491649Z"
    }
   },
   "cell_type": "code",
   "source": "",
   "id": "20e00db080262881",
   "outputs": [],
   "execution_count": null
  }
 ],
 "metadata": {
  "kernelspec": {
   "display_name": "Python 3",
   "language": "python",
   "name": "python3"
  },
  "language_info": {
   "codemirror_mode": {
    "name": "ipython",
    "version": 2
   },
   "file_extension": ".py",
   "mimetype": "text/x-python",
   "name": "python",
   "nbconvert_exporter": "python",
   "pygments_lexer": "ipython2",
   "version": "2.7.6"
  }
 },
 "nbformat": 4,
 "nbformat_minor": 5
}
