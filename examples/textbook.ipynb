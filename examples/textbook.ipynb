{
 "cells": [
  {
   "cell_type": "code",
   "id": "initial_id",
   "metadata": {
    "collapsed": true,
    "ExecuteTime": {
     "end_time": "2025-07-20T17:03:05.150135Z",
     "start_time": "2025-07-20T17:03:02.981797Z"
    }
   },
   "source": [
    "import numpy as np\n",
    "import pandas as pd\n",
    "\n",
    "from sklearn.metrics import accuracy_score\n",
    "\n",
    "from shapiq_student.knn_explainer import KNNExplainer\n",
    "from sklearn.neighbors import KNeighborsClassifier\n",
    "from sklearn.model_selection import train_test_split\n",
    "\n",
    "from tests_grading.conftest import x_explain\n"
   ],
   "outputs": [],
   "execution_count": 1
  },
  {
   "metadata": {
    "ExecuteTime": {
     "end_time": "2025-07-20T17:03:05.377107Z",
     "start_time": "2025-07-20T17:03:05.371192Z"
    }
   },
   "cell_type": "code",
   "source": [
    "df = pd.read_csv(\"../shapiq_student/movie_dataset.csv\")\n",
    "train_df, test_df = train_test_split(df, test_size=0.4, random_state=42)\n",
    "X_train = train_df[[\"fight_scenes\",\"kiss_scenes\"]].values\n",
    "y_train = train_df[\"label\"].values\n",
    "X_test = test_df[[\"fight_scenes\",\"kiss_scenes\"]].values\n",
    "\n",
    "y_test = test_df[\"label\"].values"
   ],
   "id": "bfc20fe70120dfcc",
   "outputs": [],
   "execution_count": 2
  },
  {
   "metadata": {
    "ExecuteTime": {
     "end_time": "2025-07-20T17:03:05.390999Z",
     "start_time": "2025-07-20T17:03:05.386893Z"
    }
   },
   "cell_type": "code",
   "source": [
    "knn = KNeighborsClassifier(n_neighbors=5, weights=\"distance\")\n",
    "knn.fit(X_train, y_train)\n",
    "prediction = knn.predict(X_test)\n",
    "accuracy = accuracy_score(y_test, prediction)"
   ],
   "id": "35ca4a246d5d24e9",
   "outputs": [],
   "execution_count": 3
  },
  {
   "metadata": {
    "ExecuteTime": {
     "end_time": "2025-07-20T17:03:05.403416Z",
     "start_time": "2025-07-20T17:03:05.400361Z"
    }
   },
   "cell_type": "code",
   "source": "explainer = KNNExplainer(knn, X_train, y_train)",
   "id": "3215ca234aa61185",
   "outputs": [],
   "execution_count": 4
  },
  {
   "metadata": {
    "ExecuteTime": {
     "end_time": "2025-07-20T17:03:05.446403Z",
     "start_time": "2025-07-20T17:03:05.411474Z"
    }
   },
   "cell_type": "code",
   "source": "phi = explainer.explain(x=X_test)",
   "id": "b74f3b25a83cb4a",
   "outputs": [
    {
     "name": "stdout",
     "output_type": "stream",
     "text": [
      "x_test: (4, 2)\n",
      "distances: 4\n",
      "[[0.70710678 0.2236068  0.1490712  0.14142136 0.13867505]\n",
      " [0.70710678 0.35355339 0.12803688 0.11785113 0.11624764]\n",
      " [0.70710678 0.35355339 0.31622777 0.2773501  0.0877058 ]\n",
      " [0.70710678 0.5        0.10846523 0.10101525 0.1       ]] SADGAWGWEGWAGWGWA\n",
      "0\n",
      "[2 6]\n",
      "None\n",
      "1\n",
      "[2 8]\n",
      "None\n",
      "2\n",
      "[10  0]\n",
      "None\n",
      "3\n",
      "[1 9]\n",
      "None\n"
     ]
    }
   ],
   "execution_count": 5
  },
  {
   "metadata": {
    "ExecuteTime": {
     "end_time": "2025-07-20T17:03:05.457195Z",
     "start_time": "2025-07-20T17:03:05.455047Z"
    }
   },
   "cell_type": "code",
   "source": "print(phi)",
   "id": "22579d332167392f",
   "outputs": [
    {
     "name": "stdout",
     "output_type": "stream",
     "text": [
      "InteractionValues(\n",
      "    index=SV, max_order=1, min_order=1, estimated=True, estimation_budget=None,\n",
      "    n_players=6, baseline_value=0.0,\n",
      "    Top 10 interactions:\n",
      "        (0,): 0.0\n",
      "        (1,): 0.0\n",
      "        (2,): 0.0\n",
      "        (3,): 0.0\n",
      "        (4,): 0.0\n",
      "        (5,): 0.0\n",
      ")\n"
     ]
    }
   ],
   "execution_count": 6
  },
  {
   "metadata": {
    "ExecuteTime": {
     "end_time": "2025-07-20T17:03:05.470491Z",
     "start_time": "2025-07-20T17:03:05.468846Z"
    }
   },
   "cell_type": "code",
   "source": "",
   "id": "20e00db080262881",
   "outputs": [],
   "execution_count": null
  }
 ],
 "metadata": {
  "kernelspec": {
   "display_name": "Python 3",
   "language": "python",
   "name": "python3"
  },
  "language_info": {
   "codemirror_mode": {
    "name": "ipython",
    "version": 2
   },
   "file_extension": ".py",
   "mimetype": "text/x-python",
   "name": "python",
   "nbconvert_exporter": "python",
   "pygments_lexer": "ipython2",
   "version": "2.7.6"
  }
 },
 "nbformat": 4,
 "nbformat_minor": 5
}
