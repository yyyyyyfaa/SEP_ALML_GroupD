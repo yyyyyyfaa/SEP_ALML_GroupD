{
 "cells": [
  {
   "cell_type": "code",
   "id": "initial_id",
   "metadata": {
    "collapsed": true,
    "ExecuteTime": {
     "end_time": "2025-07-17T19:03:29.414850Z",
     "start_time": "2025-07-17T19:03:26.344587Z"
    }
   },
   "source": [
    "\n",
    "import pandas as pd\n",
    "\n",
    "from sklearn.metrics import accuracy_score\n",
    "\n",
    "from shapiq_student.knn_explainer import KNNExplainer\n",
    "from sklearn.neighbors import KNeighborsClassifier, RadiusNeighborsClassifier\n",
    "from sklearn.model_selection import train_test_split\n"
   ],
   "outputs": [],
   "execution_count": 1
  },
  {
   "metadata": {
    "ExecuteTime": {
     "end_time": "2025-07-17T19:03:29.670601Z",
     "start_time": "2025-07-17T19:03:29.661195Z"
    }
   },
   "cell_type": "code",
   "source": [
    "df = pd.read_csv(\"shapiq_student/movie_dataset.csv\")\n",
    "train_df, test_df = train_test_split(df, test_size=0.4, random_state=42)\n",
    "X_train = train_df[[\"fight_scenes\",\"kiss_scenes\"]].values\n",
    "y_train = train_df[\"label\"].values\n",
    "X_test = test_df[[\"fight_scenes\",\"kiss_scenes\"]].values\n",
    "y_test = test_df[\"label\"].values"
   ],
   "id": "bfc20fe70120dfcc",
   "outputs": [],
   "execution_count": 2
  },
  {
   "metadata": {
    "ExecuteTime": {
     "end_time": "2025-07-17T19:03:29.690713Z",
     "start_time": "2025-07-17T19:03:29.685096Z"
    }
   },
   "cell_type": "code",
   "source": [
    "knn = RadiusNeighborsClassifier(15.0)\n",
    "knn.fit(X_train, y_train)\n",
    "prediction = knn.predict(X_test)\n",
    "accuracy = accuracy_score(y_test, prediction)"
   ],
   "id": "35ca4a246d5d24e9",
   "outputs": [],
   "execution_count": 3
  },
  {
   "metadata": {
    "ExecuteTime": {
     "end_time": "2025-07-17T19:03:29.718976Z",
     "start_time": "2025-07-17T19:03:29.713537Z"
    }
   },
   "cell_type": "code",
   "source": "explainer = KNNExplainer(knn, X_train, y_train, class_index=y_test)",
   "id": "3215ca234aa61185",
   "outputs": [
    {
     "name": "stderr",
     "output_type": "stream",
     "text": [
      "C:\\Users\\Alina\\PycharmProjects\\SEP_ALML_GroupD\\.venv\\Lib\\site-packages\\shapiq\\explainer\\base.py:130: UserWarning: The `data` and the model must be compatible. The model's prediction must be a 1-dimensional array.\n",
      "  validate_data_predict_function(data, predict_function=self.predict, raise_error=False)\n"
     ]
    }
   ],
   "execution_count": 4
  },
  {
   "metadata": {
    "ExecuteTime": {
     "end_time": "2025-07-17T19:03:29.751732Z",
     "start_time": "2025-07-17T19:03:29.742551Z"
    }
   },
   "cell_type": "code",
   "source": "phi = explainer.explain(x=X_test)",
   "id": "b74f3b25a83cb4a",
   "outputs": [
    {
     "name": "stdout",
     "output_type": "stream",
     "text": [
      "x_val [2 6]\n",
      "0 y_val\n",
      "2\n",
      "[7 1] x_i\n",
      "[[ 0 10]\n",
      " [ 8  3]\n",
      " [ 9  1]\n",
      " [ 1  7]\n",
      " [ 8  2]] X_minus_i\n",
      "-0.16888888888888887 phi\n",
      "[ 0 10] x_i\n",
      "[[7 1]\n",
      " [8 3]\n",
      " [9 1]\n",
      " [1 7]\n",
      " [8 2]] X_minus_i\n",
      "0.2544444444444444 phi\n",
      "[8 3] x_i\n",
      "[[ 7  1]\n",
      " [ 0 10]\n",
      " [ 9  1]\n",
      " [ 1  7]\n",
      " [ 8  2]] X_minus_i\n",
      "-0.16888888888888887 phi\n",
      "[9 1] x_i\n",
      "[[ 7  1]\n",
      " [ 0 10]\n",
      " [ 8  3]\n",
      " [ 1  7]\n",
      " [ 8  2]] X_minus_i\n",
      "-0.16888888888888887 phi\n",
      "[1 7] x_i\n",
      "[[ 7  1]\n",
      " [ 0 10]\n",
      " [ 8  3]\n",
      " [ 9  1]\n",
      " [ 8  2]] X_minus_i\n",
      "0.2544444444444444 phi\n",
      "[8 2] x_i\n",
      "[[ 7  1]\n",
      " [ 0 10]\n",
      " [ 8  3]\n",
      " [ 9  1]\n",
      " [ 1  7]] X_minus_i\n",
      "-0.16888888888888887 phi\n",
      "x_val [2 8]\n",
      "0 y_val\n",
      "2\n",
      "[7 1] x_i\n",
      "[[ 0 10]\n",
      " [ 8  3]\n",
      " [ 9  1]\n",
      " [ 1  7]\n",
      " [ 8  2]] X_minus_i\n",
      "-0.16888888888888887 phi\n",
      "[ 0 10] x_i\n",
      "[[7 1]\n",
      " [8 3]\n",
      " [9 1]\n",
      " [1 7]\n",
      " [8 2]] X_minus_i\n",
      "0.2544444444444444 phi\n",
      "[8 3] x_i\n",
      "[[ 7  1]\n",
      " [ 0 10]\n",
      " [ 9  1]\n",
      " [ 1  7]\n",
      " [ 8  2]] X_minus_i\n",
      "-0.16888888888888887 phi\n",
      "[9 1] x_i\n",
      "[[ 7  1]\n",
      " [ 0 10]\n",
      " [ 8  3]\n",
      " [ 1  7]\n",
      " [ 8  2]] X_minus_i\n",
      "-0.16888888888888887 phi\n",
      "[1 7] x_i\n",
      "[[ 7  1]\n",
      " [ 0 10]\n",
      " [ 8  3]\n",
      " [ 9  1]\n",
      " [ 8  2]] X_minus_i\n",
      "0.2544444444444444 phi\n",
      "[8 2] x_i\n",
      "[[ 7  1]\n",
      " [ 0 10]\n",
      " [ 8  3]\n",
      " [ 9  1]\n",
      " [ 1  7]] X_minus_i\n",
      "-0.16888888888888887 phi\n",
      "x_val [10  0]\n",
      "1 y_val\n",
      "2\n",
      "[7 1] x_i\n",
      "[[ 0 10]\n",
      " [ 8  3]\n",
      " [ 9  1]\n",
      " [ 1  7]\n",
      " [ 8  2]] X_minus_i\n",
      "0.16888888888888887 phi\n",
      "[ 0 10] x_i\n",
      "[[7 1]\n",
      " [8 3]\n",
      " [9 1]\n",
      " [1 7]\n",
      " [8 2]] X_minus_i\n",
      "-0.2544444444444444 phi\n",
      "[8 3] x_i\n",
      "[[ 7  1]\n",
      " [ 0 10]\n",
      " [ 9  1]\n",
      " [ 1  7]\n",
      " [ 8  2]] X_minus_i\n",
      "0.16888888888888887 phi\n",
      "[9 1] x_i\n",
      "[[ 7  1]\n",
      " [ 0 10]\n",
      " [ 8  3]\n",
      " [ 1  7]\n",
      " [ 8  2]] X_minus_i\n",
      "0.16888888888888887 phi\n",
      "[1 7] x_i\n",
      "[[ 7  1]\n",
      " [ 0 10]\n",
      " [ 8  3]\n",
      " [ 9  1]\n",
      " [ 8  2]] X_minus_i\n",
      "-0.2544444444444444 phi\n",
      "[8 2] x_i\n",
      "[[ 7  1]\n",
      " [ 0 10]\n",
      " [ 8  3]\n",
      " [ 9  1]\n",
      " [ 1  7]] X_minus_i\n",
      "0.16888888888888887 phi\n",
      "x_val [1 9]\n",
      "0 y_val\n",
      "2\n",
      "[7 1] x_i\n",
      "[[ 0 10]\n",
      " [ 8  3]\n",
      " [ 9  1]\n",
      " [ 1  7]\n",
      " [ 8  2]] X_minus_i\n",
      "-0.16888888888888887 phi\n",
      "[ 0 10] x_i\n",
      "[[7 1]\n",
      " [8 3]\n",
      " [9 1]\n",
      " [1 7]\n",
      " [8 2]] X_minus_i\n",
      "0.2544444444444444 phi\n",
      "[8 3] x_i\n",
      "[[ 7  1]\n",
      " [ 0 10]\n",
      " [ 9  1]\n",
      " [ 1  7]\n",
      " [ 8  2]] X_minus_i\n",
      "-0.16888888888888887 phi\n",
      "[9 1] x_i\n",
      "[[ 7  1]\n",
      " [ 0 10]\n",
      " [ 8  3]\n",
      " [ 1  7]\n",
      " [ 8  2]] X_minus_i\n",
      "-0.16888888888888887 phi\n",
      "[1 7] x_i\n",
      "[[ 7  1]\n",
      " [ 0 10]\n",
      " [ 8  3]\n",
      " [ 9  1]\n",
      " [ 8  2]] X_minus_i\n",
      "0.2544444444444444 phi\n",
      "[8 2] x_i\n",
      "[[ 7  1]\n",
      " [ 0 10]\n",
      " [ 8  3]\n",
      " [ 9  1]\n",
      " [ 1  7]] X_minus_i\n",
      "-0.16888888888888887 phi\n"
     ]
    }
   ],
   "execution_count": 5
  },
  {
   "metadata": {
    "ExecuteTime": {
     "end_time": "2025-07-17T19:03:29.791345Z",
     "start_time": "2025-07-17T19:03:29.787713Z"
    }
   },
   "cell_type": "code",
   "source": "print(phi)",
   "id": "22579d332167392f",
   "outputs": [
    {
     "name": "stdout",
     "output_type": "stream",
     "text": [
      "InteractionValues(\n",
      "    index=SV, max_order=1, min_order=1, estimated=True, estimation_budget=None,\n",
      "    n_players=6, baseline_value=0.0,\n",
      "    Top 10 interactions:\n",
      "        (1,): 0.5088888888888888\n",
      "        (4,): 0.5088888888888888\n",
      "        (0,): -0.33777777777777773\n",
      "        (2,): -0.33777777777777773\n",
      "        (3,): -0.33777777777777773\n",
      "        (5,): -0.33777777777777773\n",
      ")\n"
     ]
    }
   ],
   "execution_count": 6
  },
  {
   "metadata": {
    "ExecuteTime": {
     "end_time": "2025-07-17T19:03:29.900590Z",
     "start_time": "2025-07-17T19:03:29.899160Z"
    }
   },
   "cell_type": "code",
   "source": "",
   "id": "20e00db080262881",
   "outputs": [],
   "execution_count": null
  }
 ],
 "metadata": {
  "kernelspec": {
   "display_name": "Python 3",
   "language": "python",
   "name": "python3"
  },
  "language_info": {
   "codemirror_mode": {
    "name": "ipython",
    "version": 2
   },
   "file_extension": ".py",
   "mimetype": "text/x-python",
   "name": "python",
   "nbconvert_exporter": "python",
   "pygments_lexer": "ipython2",
   "version": "2.7.6"
  }
 },
 "nbformat": 4,
 "nbformat_minor": 5
}
