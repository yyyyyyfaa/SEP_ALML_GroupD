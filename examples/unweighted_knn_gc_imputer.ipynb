{
 "cells": [
  {
   "cell_type": "markdown",
   "metadata": {
    "pycharm": {
     "name": "#%% md\n"
    }
   },
   "source": [
    "#3.2 Tutorial: KNN-Shapley & Gaussian Conditional Imputer\n",
    "\n",
    "Demonstration der implementierten Funktionalitäten:\n",
    "- Unweighted KNN-Shapley Explainer  \n",
    "- Gaussian Conditional Imputer\n",
    "\n",
    "Gruppe D - SEP ALML SoSe 2025\n",
    "Implementiert von: [Yifan Yang]\n",
    "Matrikelnummer: 12377282\n"
   ]
  },
  {
   "cell_type": "code",
   "execution_count": null,
   "metadata": {
    "pycharm": {
     "name": "#%%\n"
    }
   },
   "outputs": [
    {
     "name": "stdout",
     "output_type": "stream",
     "text": [
      "=== KNN-Shapley & Gaussian Imputer Tutorial ===\n",
      "Gruppe D - Softwareentwicklungspraktikum\n"
     ]
    }
   ],
   "source": [
    "print(\"=== KNN-Shapley & Gaussian Imputer Tutorial ===\")\n",
    "print(\"Gruppe D - Softwareentwicklungspraktikum\")\n",
    "\n",
    "# Basic imports\n",
    "import numpy as np\n",
    "import pandas as pd\n",
    "import matplotlib.pyplot as plt\n",
    "from sklearn.datasets import make_classification\n",
    "from sklearn.model_selection import train_test_split\n",
    "from sklearn.neighbors import KNeighborsClassifier\n",
    "from sklearn.preprocessing import StandardScaler"
   ]
  },
  {
   "cell_type": "markdown",
   "metadata": {
    "pycharm": {
     "name": "#%% md\n"
    }
   },
   "source": [
    "# Data preparation\n",
    "\n",
    "## Why are these steps needed?\n",
    "- **Generate data**: create a simple dataset\n",
    "- **Train/Test Segmentation**: simulate a real machine learning workflow\n",
    "- **Normalize**: KNN algorithm is based on distance calculation and requires features to be on the same scale!\n",
    "\n",
    "## Data features\n",
    "- 4 features (for easy understanding and visualization)\n",
    "- 2 categories (binary classification problem)\n",
    "- 200 samples (enough for training, but not too complex)"
   ]
  },
  {
   "cell_type": "code",
   "execution_count": null,
   "metadata": {
    "pycharm": {
     "name": "#%%\n"
    }
   },
   "outputs": [
    {
     "name": "stdout",
     "output_type": "stream",
     "text": [
      "trainning data: (140, 4)\n",
      "test data: (60, 4)\n",
      "features: 4\n",
      "lables: [0 1]\n"
     ]
    }
   ],
   "source": [
    "\n",
    "# creat classification\n",
    "X, y = make_classification(\n",
    "    n_samples=200,\n",
    "    n_features=4,\n",
    "    n_classes=2,\n",
    "    random_state=42,\n",
    "    class_sep=1.5\n",
    ")\n",
    "\n",
    "# split dataset\n",
    "X_train, X_test, y_train, y_test = train_test_split(\n",
    "    X, y, test_size=0.3, random_state=42\n",
    ")\n",
    "\n",
    "# normalize\n",
    "scaler = StandardScaler()\n",
    "X_train_scaled = scaler.fit_transform(X_train)\n",
    "X_test_scaled = scaler.transform(X_test)\n",
    "\n",
    "print(f\"trainning data: {X_train_scaled.shape}\")\n",
    "print(f\"test data: {X_test_scaled.shape}\")\n",
    "print(f\"features: {X.shape[1]}\")\n",
    "print(f\"lables: {np.unique(y)}\")\n"
   ]
  },
  {
   "cell_type": "markdown",
   "metadata": {
    "pycharm": {
     "name": "#%% md\n"
    }
   },
   "source": [
    "# KNN model training\n",
    "\n",
    "Now we train a KNN classifier, which will be the target model for our interpretation.\n",
    "\n",
    "## KNN model features\n",
    "- **Number of neighbors k=5**: as a demonstration\n",
    "- **Distance based**: uses Euclidean distance to find nearest neighbors"
   ]
  },
  {
   "cell_type": "code",
   "execution_count": null,
   "metadata": {
    "pycharm": {
     "name": "#%%\n"
    }
   },
   "outputs": [
    {
     "name": "stdout",
     "output_type": "stream",
     "text": [
      "train accuracy: 0.950\n",
      "test accuracy: 0.983\n",
      "\n",
      "sample:\n",
      "true lable: 1\n",
      "predicted label: 1\n",
      "features: [ 0.408  0.72   0.322 -0.523]\n"
     ]
    }
   ],
   "source": [
    "\n",
    "\n",
    "# create and fit model\n",
    "knn_model = KNeighborsClassifier(n_neighbors=5)\n",
    "knn_model.fit(X_train_scaled, y_train)\n",
    "\n",
    "# test performance\n",
    "train_accuracy = knn_model.score(X_train_scaled, y_train)\n",
    "test_accuracy = knn_model.score(X_test_scaled, y_test)\n",
    "\n",
    "print(f\"train accuracy: {train_accuracy:.3f}\")\n",
    "print(f\"test accuracy: {test_accuracy:.3f}\")\n",
    "\n",
    "# choose a sample to explain\n",
    "test_sample_idx = 0\n",
    "x_explain = X_test_scaled[test_sample_idx]\n",
    "true_label = y_test[test_sample_idx]\n",
    "predicted_label = knn_model.predict(x_explain.reshape(1, -1))[0]\n",
    "\n",
    "print(f\"\\nsample:\")\n",
    "print(f\"true lable: {true_label}\")\n",
    "print(f\"predicted label: {predicted_label}\")\n",
    "print(f\"features: {x_explain.round(3)}\")\n"
   ]
  },
  {
   "cell_type": "markdown",
   "metadata": {
    "pycharm": {
     "name": "#%% md\n"
    }
   },
   "source": [
    "# Import our implementation of the KNN-Shapley function\n",
    "\n",
    "Now we import our own implementation of the KNNShapley interpreter to analyze model predictions.\n",
    "\n",
    "## Our implementation of KNN-Shapley\n",
    "- **KNNExplainer**: unified interpreter interface\n",
    "- **KNNShapley**: the core unweighted KNN-Shapley algorithm\n",
    "- **Function**: Calculate the contribution of each training sample to the prediction.\n",
    "\n",
    "## Expected results\n",
    "- Each training sample receives a Shapley value.\n",
    "- Positive values indicate training samples that support the current prediction.\n",
    "- Negative values indicate training samples that oppose the current prediction."
   ]
  },
  {
   "cell_type": "code",
   "execution_count": null,
   "metadata": {
    "pycharm": {
     "name": "#%%\n"
    }
   },
   "outputs": [
    {
     "name": "stdout",
     "output_type": "stream",
     "text": [
      "Requirement already satisfied: shapiq in /usr/local/lib/python3.11/dist-packages (1.3.1)\n",
      "Requirement already satisfied: overrides in /usr/local/lib/python3.11/dist-packages (7.7.0)\n",
      "Requirement already satisfied: numpy in /usr/local/lib/python3.11/dist-packages (from shapiq) (2.0.2)\n",
      "Requirement already satisfied: scipy in /usr/local/lib/python3.11/dist-packages (from shapiq) (1.15.3)\n",
      "Requirement already satisfied: pandas in /usr/local/lib/python3.11/dist-packages (from shapiq) (2.2.2)\n",
      "Requirement already satisfied: scikit-learn in /usr/local/lib/python3.11/dist-packages (from shapiq) (1.6.1)\n",
      "Requirement already satisfied: tqdm in /usr/local/lib/python3.11/dist-packages (from shapiq) (4.67.1)\n",
      "Requirement already satisfied: requests in /usr/local/lib/python3.11/dist-packages (from shapiq) (2.32.3)\n",
      "Requirement already satisfied: sparse-transform in /usr/local/lib/python3.11/dist-packages (from shapiq) (0.2.1)\n",
      "Requirement already satisfied: galois in /usr/local/lib/python3.11/dist-packages (from shapiq) (0.4.6)\n",
      "Requirement already satisfied: matplotlib in /usr/local/lib/python3.11/dist-packages (from shapiq) (3.10.0)\n",
      "Requirement already satisfied: networkx in /usr/local/lib/python3.11/dist-packages (from shapiq) (3.5)\n",
      "Requirement already satisfied: colour in /usr/local/lib/python3.11/dist-packages (from shapiq) (0.1.5)\n",
      "Requirement already satisfied: pillow in /usr/local/lib/python3.11/dist-packages (from shapiq) (11.2.1)\n",
      "Requirement already satisfied: numba<0.62,>=0.55 in /usr/local/lib/python3.11/dist-packages (from galois->shapiq) (0.60.0)\n",
      "Requirement already satisfied: typing-extensions>=4.0.0 in /usr/local/lib/python3.11/dist-packages (from galois->shapiq) (4.14.1)\n",
      "Requirement already satisfied: contourpy>=1.0.1 in /usr/local/lib/python3.11/dist-packages (from matplotlib->shapiq) (1.3.2)\n",
      "Requirement already satisfied: cycler>=0.10 in /usr/local/lib/python3.11/dist-packages (from matplotlib->shapiq) (0.12.1)\n",
      "Requirement already satisfied: fonttools>=4.22.0 in /usr/local/lib/python3.11/dist-packages (from matplotlib->shapiq) (4.58.5)\n",
      "Requirement already satisfied: kiwisolver>=1.3.1 in /usr/local/lib/python3.11/dist-packages (from matplotlib->shapiq) (1.4.8)\n",
      "Requirement already satisfied: packaging>=20.0 in /usr/local/lib/python3.11/dist-packages (from matplotlib->shapiq) (25.0)\n",
      "Requirement already satisfied: pyparsing>=2.3.1 in /usr/local/lib/python3.11/dist-packages (from matplotlib->shapiq) (3.2.3)\n",
      "Requirement already satisfied: python-dateutil>=2.7 in /usr/local/lib/python3.11/dist-packages (from matplotlib->shapiq) (2.9.0.post0)\n",
      "Requirement already satisfied: pytz>=2020.1 in /usr/local/lib/python3.11/dist-packages (from pandas->shapiq) (2025.2)\n",
      "Requirement already satisfied: tzdata>=2022.7 in /usr/local/lib/python3.11/dist-packages (from pandas->shapiq) (2025.2)\n",
      "Requirement already satisfied: charset-normalizer<4,>=2 in /usr/local/lib/python3.11/dist-packages (from requests->shapiq) (3.4.2)\n",
      "Requirement already satisfied: idna<4,>=2.5 in /usr/local/lib/python3.11/dist-packages (from requests->shapiq) (3.10)\n",
      "Requirement already satisfied: urllib3<3,>=1.21.1 in /usr/local/lib/python3.11/dist-packages (from requests->shapiq) (2.4.0)\n",
      "Requirement already satisfied: certifi>=2017.4.17 in /usr/local/lib/python3.11/dist-packages (from requests->shapiq) (2025.7.14)\n",
      "Requirement already satisfied: joblib>=1.2.0 in /usr/local/lib/python3.11/dist-packages (from scikit-learn->shapiq) (1.5.1)\n",
      "Requirement already satisfied: threadpoolctl>=3.1.0 in /usr/local/lib/python3.11/dist-packages (from scikit-learn->shapiq) (3.6.0)\n",
      "Requirement already satisfied: llvmlite<0.44,>=0.43.0dev0 in /usr/local/lib/python3.11/dist-packages (from numba<0.62,>=0.55->galois->shapiq) (0.43.0)\n",
      "Requirement already satisfied: six>=1.5 in /usr/local/lib/python3.11/dist-packages (from python-dateutil>=2.7->matplotlib->shapiq) (1.17.0)\n",
      "✓ KNN-Shapley modules imported!\n",
      "KNNExplainer类: <class 'shapiq_student.knn_explainer.KNNExplainer'>\n",
      "KNNShapley类: <class 'shapiq_student.knn_shapley.KNNShapley'>\n"
     ]
    }
   ],
   "source": [
    "import sys\n",
    "sys.path.append('/content/SEP_ALML_GroupD')\n",
    "!pip install shapiq overrides\n",
    "import shapiq\n",
    "\n",
    "from shapiq_student.knn_explainer import KNNExplainer\n",
    "from shapiq_student.knn_shapley import KNNShapley\n",
    "\n",
    "print(\"✓ KNN-Shapley modules imported!\")\n",
    "print(f\"KNNExplainer类: {KNNExplainer}\")\n",
    "print(f\"KNNShapley类: {KNNShapley}\")\n",
    "\n",
    "\n"
   ]
  },
  {
   "cell_type": "markdown",
   "metadata": {
    "pycharm": {
     "name": "#%% md\n"
    }
   },
   "source": [
    "## Interpreter settings\n",
    "- **model**: the KNN classifier we trained on\n",
    "- **data**: training data (used to compute Shapley values)\n",
    "- **labels**: training labels\n",
    "- **class_index**: the class we want to interpret (1)"
   ]
  },
  {
   "cell_type": "code",
   "execution_count": null,
   "metadata": {
    "pycharm": {
     "name": "#%%\n"
    }
   },
   "outputs": [
    {
     "name": "stdout",
     "output_type": "stream",
     "text": [
      "create knn explainer...\n",
      "traing data shape: (140, 4)\n",
      "training labels shape: (140,)\n",
      "class_index: 1\n"
     ]
    }
   ],
   "source": [
    "# create knn interpreter\n",
    "print(\"create knn interpreter...\")\n",
    "\n",
    "try:\n",
    "    # init\n",
    "    knn_explainer = KNNExplainer(\n",
    "        model=knn_model,\n",
    "        data=X_train_scaled,\n",
    "        labels=y_train,\n",
    "        class_index=1,\n",
    "        random_state=42\n",
    "    )\n",
    "\n",
    "    print(f\"traing data shape: {X_train_scaled.shape}\")\n",
    "    print(f\"training labels shape: {y_train.shape}\")\n",
    "    print(f\"class_index: 1\")\n",
    "\n",
    "except Exception as e:\n",
    "    print(f\" error when creating explainer: {e}\")\n"
   ]
  },
  {
   "cell_type": "markdown",
   "metadata": {
    "pycharm": {
     "name": "#%% md\n"
    }
   },
   "source": [
    "# Calculate the KNN-Shapley value\n",
    "\n",
    "Now we use the interpreter to compute the Shapley values for the samples we have chosen to test.\n",
    "\n",
    "## Review of samples to be interpreted\n",
    "- **True Label**: 1\n",
    "- **Predictive label**: 1 ✓\n",
    "- **Eigenvalue**: [0.408, 0.72, 0.322, -0.523]\n",
    "\n",
    "## Shapley value meaning\n",
    "- Each training sample will get a Shapley value\n",
    "- **Positive**: The training sample supports the prediction of category 1.\n",
    "- **Negative value**: the training sample is against the prediction of category 1\n",
    "- The larger the **value**: the more important the effect is."
   ]
  },
  {
   "cell_type": "code",
   "execution_count": null,
   "metadata": {
    "pycharm": {
     "name": "#%%\n"
    }
   },
   "outputs": [
    {
     "name": "stdout",
     "output_type": "stream",
     "text": [
      "explain eigenvalue: [ 0.408  0.72   0.322 -0.523]\n",
      "true labels: 1, predict labels: 1\n",
      "num of Shapley values: 140\n",
      "num of trainging data: 140\n",
      "best supported sample #1:\n",
      "  Shapley: 0.0459\n",
      "  label: 1\n",
      "\n",
      "most againsted sample #26:\n",
      "  Shapley value: -0.1541\n",
      "  label: 0\n",
      "\n",
      "=== overall contribution ===\n",
      "sum of positive contribution: 1.2552\n",
      "sum of negative contribution: -0.6552\n",
      "net contribution: 0.6000\n"
     ]
    }
   ],
   "source": [
    "\n",
    "print(f\"explain eigenvalue: {x_explain.round(3)}\")\n",
    "print(f\"true labels: {true_label}, predict labels: {predicted_label}\")\n",
    "\n",
    "try:\n",
    "    # create instance of knnshapley\n",
    "    knn_shapley = KNNShapley(\n",
    "        model=knn_model,\n",
    "        data=X_train_scaled,\n",
    "        labels=y_train,\n",
    "        class_index=1\n",
    "    )\n",
    "\n",
    "\n",
    "    # compute shapley value\n",
    "    shapley_values = knn_shapley.knn_shapley(x_explain.reshape(1, -1))\n",
    "\n",
    "    print(f\"num of Shapley values: {len(shapley_values)}\")\n",
    "    print(f\"num of trainging data: {len(y_train)}\")\n",
    "\n",
    "\n",
    "    # find biggest positive value\n",
    "    top_positive_idx = np.argmax(shapley_values)\n",
    "    top_positive_value = shapley_values[top_positive_idx]\n",
    "\n",
    "    # find biggest negative value\n",
    "    top_negative_idx = np.argmin(shapley_values)\n",
    "    top_negative_value = shapley_values[top_negative_idx]\n",
    "\n",
    "    print(f\"best supported sample #{top_positive_idx}:\")\n",
    "    print(f\"  Shapley: {top_positive_value:.4f}\")\n",
    "    print(f\"  label: {y_train[top_positive_idx]}\")\n",
    "\n",
    "    print(f\"\\nmost againsted sample #{top_negative_idx}:\")\n",
    "    print(f\"  Shapley value: {top_negative_value:.4f}\")\n",
    "    print(f\"  label: {y_train[top_negative_idx]}\")\n",
    "\n",
    "    positive_contrib = np.sum(shapley_values[shapley_values > 0])\n",
    "    negative_contrib = np.sum(shapley_values[shapley_values < 0])\n",
    "\n",
    "    print(f\"\\n=== overall contribution ===\")\n",
    "    print(f\"sum of positive contribution: {positive_contrib:.4f}\")\n",
    "    print(f\"sum of negative contribution: {negative_contrib:.4f}\")\n",
    "    print(f\"net contribution: {positive_contrib + negative_contrib:.4f}\")\n",
    "\n",
    "except Exception as e:\n",
    "    print(f\"❌ error in computing: {e}\")\n",
    "    import traceback\n",
    "    traceback.print_exc()\n"
   ]
  },
  {
   "cell_type": "markdown",
   "metadata": {
    "pycharm": {
     "name": "#%% md\n"
    }
   },
   "source": [
    "# Visualize the KNN-Shapley results\n",
    "\n",
    "Now that we have calculated the Shapley values, let's visualize the results to better understand them.\n",
    "\n",
    "## Visualize the content\n",
    "1. **Histogram of the distribution of Shapley values** - see the overall distribution of contributions\n",
    "2. **Top Contributions training samples** - the most important positive and negative contributions\n",
    "\n",
    "This will help us understand how the KNN model makes predictive decisions."
   ]
  },
  {
   "cell_type": "code",
   "execution_count": null,
   "metadata": {
    "pycharm": {
     "name": "#%%\n"
    }
   },
   "outputs": [
    {
     "name": "stdout",
     "output_type": "stream",
     "text": [
      "\n",
      "=== conclusion ===\n",
      "sum of samples: 140\n",
      "samples with positive contribution: 72\n",
      "samples with negative contribution: 68\n",
      "avg Shapley value: 0.0043\n",
      "standard error for shapley value: 0.0249\n"
     ]
    },
    {
     "name": "stderr",
     "output_type": "stream",
     "text": [
      "/usr/local/lib/python3.11/dist-packages/IPython/core/events.py:89: UserWarning: Glyph 35299 (\\N{CJK UNIFIED IDEOGRAPH-89E3}) missing from font(s) DejaVu Sans.\n",
      "  func(*args, **kwargs)\n",
      "/usr/local/lib/python3.11/dist-packages/IPython/core/events.py:89: UserWarning: Glyph 37322 (\\N{CJK UNIFIED IDEOGRAPH-91CA}) missing from font(s) DejaVu Sans.\n",
      "  func(*args, **kwargs)\n",
      "/usr/local/lib/python3.11/dist-packages/IPython/core/events.py:89: UserWarning: Glyph 32467 (\\N{CJK UNIFIED IDEOGRAPH-7ED3}) missing from font(s) DejaVu Sans.\n",
      "  func(*args, **kwargs)\n",
      "/usr/local/lib/python3.11/dist-packages/IPython/core/events.py:89: UserWarning: Glyph 26524 (\\N{CJK UNIFIED IDEOGRAPH-679C}) missing from font(s) DejaVu Sans.\n",
      "  func(*args, **kwargs)\n",
      "/usr/local/lib/python3.11/dist-packages/IPython/core/pylabtools.py:151: UserWarning: Glyph 35299 (\\N{CJK UNIFIED IDEOGRAPH-89E3}) missing from font(s) DejaVu Sans.\n",
      "  fig.canvas.print_figure(bytes_io, **kw)\n",
      "/usr/local/lib/python3.11/dist-packages/IPython/core/pylabtools.py:151: UserWarning: Glyph 37322 (\\N{CJK UNIFIED IDEOGRAPH-91CA}) missing from font(s) DejaVu Sans.\n",
      "  fig.canvas.print_figure(bytes_io, **kw)\n",
      "/usr/local/lib/python3.11/dist-packages/IPython/core/pylabtools.py:151: UserWarning: Glyph 32467 (\\N{CJK UNIFIED IDEOGRAPH-7ED3}) missing from font(s) DejaVu Sans.\n",
      "  fig.canvas.print_figure(bytes_io, **kw)\n",
      "/usr/local/lib/python3.11/dist-packages/IPython/core/pylabtools.py:151: UserWarning: Glyph 26524 (\\N{CJK UNIFIED IDEOGRAPH-679C}) missing from font(s) DejaVu Sans.\n",
      "  fig.canvas.print_figure(bytes_io, **kw)\n"
     ]
    },
    {
     "data": {
      "image/png": "[encoded data removed]",
      "text/plain": [
       "<Figure size 1200x1000 with 4 Axes>"
      ]
     },
     "metadata": {},
     "output_type": "display_data"
    }
   ],
   "source": [
    "\n",
    "fig, axes = plt.subplots(2, 2, figsize=(12, 10))\n",
    "fig.suptitle('KNN-Shapley 解释结果', fontsize=14, fontweight='bold')\n",
    "\n",
    "# 1: Shapley value histop gramm\n",
    "axes[0, 0].hist(shapley_values, bins=20, alpha=0.7, color='skyblue', edgecolor='black')\n",
    "axes[0, 0].axvline(0, color='red', linestyle='--', alpha=0.7, label='0')\n",
    "axes[0, 0].set_xlabel('Shapley value')\n",
    "axes[0, 0].set_ylabel('training sample')\n",
    "axes[0, 0].set_title('Shapley distribution ')\n",
    "axes[0, 0].legend()\n",
    "axes[0, 0].grid(True, alpha=0.3)\n",
    "\n",
    "# 2: Top 10 important contributions\n",
    "top_indices = np.argsort(np.abs(shapley_values))[-10:]  # biggest abs value\n",
    "top_values = shapley_values[top_indices]\n",
    "colors = ['green' if v > 0 else 'red' for v in top_values]\n",
    "\n",
    "axes[0, 1].barh(range(len(top_values)), top_values, color=colors, alpha=0.7)\n",
    "axes[0, 1].set_yticks(range(len(top_values)))\n",
    "axes[0, 1].set_yticklabels([f'sample{i}' for i in top_indices])\n",
    "axes[0, 1].set_xlabel('Shapley value')\n",
    "axes[0, 1].set_title('Top 10 important sample')\n",
    "axes[0, 1].axvline(0, color='black', linestyle='-', alpha=0.5)\n",
    "axes[0, 1].grid(True, alpha=0.3)\n",
    "\n",
    "print(f\"\\n=== conclusion ===\")\n",
    "print(f\"sum of samples: {len(shapley_values)}\")\n",
    "print(f\"samples with positive contribution: {np.sum(shapley_values > 0)}\")\n",
    "print(f\"samples with negative contribution: {np.sum(shapley_values < 0)}\")\n",
    "print(f\"avg Shapley value: {np.mean(shapley_values):.4f}\")\n",
    "print(f\"standard error for shapley value: {np.std(shapley_values):.4f}\")\n"
   ]
  },
  {
   "cell_type": "markdown",
   "metadata": {
    "pycharm": {
     "name": "#%% md\n"
    }
   },
   "source": [
    "# Gaussian Conditional Imputer Demo\n",
    "\n",
    "Now we demonstrate the second core function you have implemented: Gaussian Conditional Imputer.\n",
    "\n",
    "## Function Description\n",
    "- **Purpose**: Conditional data padding based on multivariate Gaussian distribution\n",
    "- **Benefits**: Consider correlation between features, smarter than simple mean/median padding.\n",
    "- **Application**: Handle missing data, support shapiq framework\n",
    "\n",
    "## Demonstration Plan\n",
    "1. Create data with missing values\n",
    "2. Use our GaussianImputer for padding.\n",
    "3. Compare the results with other padding methods"
   ]
  },
  {
   "cell_type": "code",
   "execution_count": null,
   "metadata": {
    "pycharm": {
     "name": "#%%\n"
    }
   },
   "outputs": [
    {
     "name": "stdout",
     "output_type": "stream",
     "text": [
      "sample 0: feature [1] as missing\n",
      "sample 1: feature [0, 3] as missing\n",
      "sample 2: feature [2] as missing\n",
      "sample 3: feature [1, 2] as missing\n",
      "sample 4: no missing as comparision）\n",
      "\n",
      " sample 0:\n",
      "  raw value: [ 0.408  0.72   0.322 -0.523]\n",
      "  after missing: [ 0.40793392         nan  0.32235503 -0.52321122]\n",
      "  missed features: [1] (1)\n",
      "\n",
      " sample 1:\n",
      "  raw value: [-0.113  1.562  1.356 -1.538]\n",
      "  after missing: [       nan 1.56162402 1.35593522        nan]\n",
      "  missed features: [0 3] (2)\n",
      "\n",
      " sample 2:\n",
      "  raw value: [ 0.983 -0.591 -1.132  0.962]\n",
      "  after missing: [ 0.98289095 -0.59098367         nan  0.9615105 ]\n",
      "  missed features: [2] (1)\n",
      "\n",
      " sample 3:\n",
      "  raw value: [ 0.747  0.384 -0.177 -0.065]\n",
      "  after missing: [ 0.74748816         nan         nan -0.06534363]\n",
      "  missed features: [1 2] (2)\n",
      "\n",
      " sample 4:\n",
      "  raw value: [-0.085 -1.347 -1.049  1.252]\n",
      "  after missing: [-0.08488804 -1.34671055 -1.04912721  1.25241325]\n",
      "  missed features: [] (0)\n"
     ]
    }
   ],
   "source": [
    "\n",
    "demo_samples = X_test_scaled[:5].copy()  # take first 5\n",
    "\n",
    "# manuel create missing data\n",
    "missing_patterns = [\n",
    "    [1],           # 0: missing feature 1\n",
    "    [0, 3],        # 1: 0 and 3\n",
    "    [2],           # 2: 2\n",
    "    [1, 2],        # 3: 1 and 2\n",
    "    []             # 4:\n",
    "]\n",
    "\n",
    "demo_with_missing = demo_samples.copy()\n",
    "for sample_idx, missing_features in enumerate(missing_patterns):\n",
    "    if missing_features:\n",
    "        demo_with_missing[sample_idx, missing_features] = np.nan\n",
    "\n",
    "for i, pattern in enumerate(missing_patterns):\n",
    "    if pattern:\n",
    "        print(f\"sample {i}: feature {pattern} as missing\")\n",
    "    else:\n",
    "        print(f\"sample {i}: no missing as comparision）\")\n",
    "\n",
    "\n",
    "for i in range(len(demo_samples)):\n",
    "    original = demo_samples[i]\n",
    "    with_missing = demo_with_missing[i]\n",
    "    missing_count = np.sum(np.isnan(with_missing))\n",
    "    missing_positions = np.where(np.isnan(with_missing))[0]\n",
    "\n",
    "    print(f\"\\n sample {i}:\")\n",
    "    print(f\"  raw value: {original.round(3)}\")\n",
    "    print(f\"  after missing: {with_missing}\")\n",
    "    print(f\"  missed features: {missing_positions} ({missing_count})\")\n",
    "\n",
    "\n",
    "\n",
    "\n"
   ]
  },
  {
   "cell_type": "markdown",
   "metadata": {
    "pycharm": {
     "name": "#%% md\n"
    }
   },
   "source": [
    "# Using the Gaussian Conditional Imputer\n",
    "\n",
    "Now we use your implementation of GaussianImputer to handle missing data.\n",
    "\n",
    "## Imputer works\n",
    "1. **Fitting**: learns a multivariate Gaussian distribution for the complete training data\n",
    "2. **Conditional Distribution**: Calculate the conditional expectation of missing features based on the observed features.\n",
    "3. **Filling**: Fill the missing positions with the conditional expectation."
   ]
  },
  {
   "cell_type": "code",
   "execution_count": null,
   "metadata": {
    "pycharm": {
     "name": "#%%\n"
    }
   },
   "outputs": [
    {
     "name": "stdout",
     "output_type": "stream",
     "text": [
      "✓ GaussianImputer imported!\n",
      "\n",
      "============================================================\n",
      "performance:\n",
      "============================================================\n",
      "\n",
      "--- sample 0: 1 missed features ---\n",
      "missed feature: [1]\n",
      "raw value: [ 0.408  0.72   0.322 -0.523]\n",
      "after missing: [ 0.40793392         nan  0.32235503 -0.52321122]\n",
      "after filling: [ 0.408  0.     0.322 -0.523]\n",
      "  feature1:  0.720 →  0.000 (error: 0.720)\n",
      "avg abs error: 0.720\n",
      "\n",
      "--- sample 1: 2 missed features ---\n",
      "missed feature: [0 3]\n",
      "raw value: [-0.113  1.562  1.356 -1.538]\n",
      "after missing: [       nan 1.56162402 1.35593522        nan]\n",
      "after filling: [-0.113  1.562  1.356 -1.538]\n",
      "  feature0: -0.113 → -0.113 (error: 0.000)\n",
      "  feature3: -1.538 → -1.538 (error: 0.000)\n",
      "avg abs error: 0.000\n",
      "\n",
      "--- sample 2: 1 missed features ---\n",
      "missed feature: [2]\n",
      "raw value: [ 0.983 -0.591 -1.132  0.962]\n",
      "after missing: [ 0.98289095 -0.59098367         nan  0.9615105 ]\n",
      "after filling: [ 0.983 -0.591  0.     0.962]\n",
      "  feature2: -1.132 →  0.000 (error: 1.132)\n",
      "avg abs error: 1.132\n",
      "\n",
      "--- sample 3: 2 missed features ---\n",
      "missed feature: [1 2]\n",
      "raw value: [ 0.747  0.384 -0.177 -0.065]\n",
      "after missing: [ 0.74748816         nan         nan -0.06534363]\n",
      "after filling: [ 0.747  0.384 -0.177 -0.065]\n",
      "  feature1:  0.384 →  0.384 (error: 0.000)\n",
      "  feature2: -0.177 → -0.177 (error: 0.000)\n",
      "avg abs error: 0.000\n",
      "\n",
      "--- sample 4: has no missing, skip---\n",
      "\n",
      "============================================================\n",
      "overall results\n",
      "============================================================\n",
      "avg MAE: 0.463\n",
      "MAE std: 0.485\n"
     ]
    }
   ],
   "source": [
    "\n",
    "try:\n",
    "    from shapiq_student.imputer import GaussianImputer\n",
    "    print(\"✓ GaussianImputer imported!\")\n",
    "except ImportError as e:\n",
    "    print(f\" import error: {e}\")\n",
    "\n",
    "from sklearn.ensemble import RandomForestClassifier\n",
    "demo_model = RandomForestClassifier(n_estimators=30, random_state=42)\n",
    "demo_model.fit(X_train_scaled, y_train)\n",
    "\n",
    "imputation_results = []\n",
    "\n",
    "print(f\"\\n{'='*60}\")\n",
    "print(\"performance:\")\n",
    "print(f\"{'='*60}\")\n",
    "\n",
    "for sample_idx in range(len(demo_samples)):\n",
    "    original = demo_samples[sample_idx]\n",
    "    with_missing = demo_with_missing[sample_idx]\n",
    "    missing_positions = np.where(np.isnan(with_missing))[0]\n",
    "\n",
    "    if len(missing_positions) == 0:\n",
    "        print(f\"\\n--- sample {sample_idx}: has no missing, skip---\")\n",
    "        continue\n",
    "\n",
    "    print(f\"\\n--- sample {sample_idx}: {len(missing_positions)} missed features ---\")\n",
    "    print(f\"missed feature: {missing_positions}\")\n",
    "    print(f\"raw value: {original.round(3)}\")\n",
    "    print(f\"after missing: {with_missing}\")\n",
    "\n",
    "    try:\n",
    "        # create gaussian imputer\n",
    "        gaussian_imputer = GaussianImputer(\n",
    "            model=demo_model.predict,\n",
    "            data=X_train_scaled,\n",
    "            x=with_missing\n",
    "        )\n",
    "\n",
    "        # fit and fill\n",
    "        gaussian_imputer.fit(with_missing)\n",
    "        sample_mask = np.isnan(with_missing).reshape(1, -1)\n",
    "        imputed = gaussian_imputer.transform(\n",
    "            with_missing.reshape(1, -1),\n",
    "            mask=sample_mask\n",
    "        )[0]\n",
    "\n",
    "        print(f\"after filling: {imputed.round(3)}\")\n",
    "\n",
    "        # compute error in fill\n",
    "        errors = []\n",
    "        for pos in missing_positions:\n",
    "            original_val = original[pos]\n",
    "            imputed_val = imputed[pos]\n",
    "            error = abs(original_val - imputed_val)\n",
    "            errors.append(error)\n",
    "            print(f\"  feature{pos}: {original_val:6.3f} → {imputed_val:6.3f} (error: {error:.3f})\")\n",
    "\n",
    "        # results\n",
    "        mae = np.mean(errors)\n",
    "        result = {\n",
    "            'sample_idx': sample_idx,\n",
    "            'n_missing': len(missing_positions),\n",
    "            'missing_features': missing_positions.tolist(),\n",
    "            'mae': mae,\n",
    "            'errors': errors\n",
    "        }\n",
    "        imputation_results.append(result)\n",
    "\n",
    "        print(f\"avg abs error: {mae:.3f}\")\n",
    "\n",
    "\n",
    "    except Exception as e:\n",
    "        print(f\" sample{sample_idx}fail filling: {e}\")\n",
    "\n",
    "# conclusion\n",
    "if imputation_results:\n",
    "    print(f\"\\n{'='*60}\")\n",
    "    print(\"overall results\")\n",
    "    print(f\"{'='*60}\")\n",
    "\n",
    "    all_maes = [result['mae'] for result in imputation_results]\n",
    "    print(f\"avg MAE: {np.mean(all_maes):.3f}\")\n",
    "    print(f\"MAE std: {np.std(all_maes):.3f}\")\n"
   ]
  },
  {
   "cell_type": "markdown",
   "metadata": {
    "pycharm": {
     "name": "#%% md\n"
    }
   },
   "source": [
    "To summarize: when the sample size is small or the missingness rate is high, the covariance estimates are unstable and may introduce additional noise"
   ]
  }
 ],
 "metadata": {
  "kernelspec": {
   "display_name": "Python 3",
   "name": "python3"
  },
  "language_info": {
   "name": "python"
  }
 },
 "nbformat": 4,
 "nbformat_minor": 2
}