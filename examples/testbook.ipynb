{
 "cells": [
  {
   "cell_type": "code",
   "id": "initial_id",
   "metadata": {
    "collapsed": true,
    "ExecuteTime": {
     "end_time": "2025-07-13T11:58:44.687302Z",
     "start_time": "2025-07-13T11:58:41.911654Z"
    }
   },
   "source": [
    "import numpy as np\n",
    "import pandas as pd\n",
    "\n",
    "from sklearn.metrics import accuracy_score\n",
    "\n",
    "from shapiq_student.knn_explainer import KNNExplainer\n",
    "from sklearn.neighbors import KNeighborsClassifier\n",
    "from sklearn.model_selection import train_test_split\n",
    "from shapiq_student.knn_shapley_wang import KNNExplainer2"
   ],
   "outputs": [],
   "execution_count": 1
  },
  {
   "metadata": {
    "ExecuteTime": {
     "end_time": "2025-07-13T11:58:44.915574Z",
     "start_time": "2025-07-13T11:58:44.906773Z"
    }
   },
   "cell_type": "code",
   "source": [
    "df = pd.read_csv(\"shapiq_student/movie_dataset.csv\")\n",
    "train_df, test_df = train_test_split(df, test_size=0.4, random_state=42)\n",
    "X_train = train_df[[\"fight_scenes\",\"kiss_scenes\"]].values\n",
    "y_train = train_df[\"label\"].values\n",
    "X_test = test_df[[\"fight_scenes\",\"kiss_scenes\"]].values\n",
    "y_test = test_df[\"label\"].values"
   ],
   "id": "3c9820db856b5673",
   "outputs": [],
   "execution_count": 2
  },
  {
   "metadata": {
    "ExecuteTime": {
     "end_time": "2025-07-13T11:58:44.937885Z",
     "start_time": "2025-07-13T11:58:44.931649Z"
    }
   },
   "cell_type": "code",
   "source": [
    "knn = KNeighborsClassifier(n_neighbors=5)\n",
    "knn.fit(X_train, y_train)\n",
    "prediction = knn.predict(X_test)\n",
    "accuracy = accuracy_score(y_test, prediction)"
   ],
   "id": "e0161ad8761b8ddd",
   "outputs": [],
   "execution_count": 3
  },
  {
   "metadata": {
    "ExecuteTime": {
     "end_time": "2025-07-13T11:58:44.963087Z",
     "start_time": "2025-07-13T11:58:44.958496Z"
    }
   },
   "cell_type": "code",
   "source": "explainer = KNNExplainer2(knn, X_train, y_train)",
   "id": "862870e7bc5859a4",
   "outputs": [],
   "execution_count": 4
  },
  {
   "metadata": {
    "ExecuteTime": {
     "end_time": "2025-07-13T11:58:44.990782Z",
     "start_time": "2025-07-13T11:58:44.986807Z"
    }
   },
   "cell_type": "code",
   "source": "phi = explainer.explain(x_train_few= X_train, y_train_few= y_train, x_val_few= X_test, y_val_few= y_test, K=10, dis_metric=\"ah\")",
   "id": "13031fc8d760d23e",
   "outputs": [
    {
     "name": "stdout",
     "output_type": "stream",
     "text": [
      "[0 0 1 0]\n",
      "ah\n",
      "ah\n",
      "ah\n",
      "ah\n",
      "6\n",
      "[0.1 0.3 0.1 0.1 0.3 0.1]\n"
     ]
    }
   ],
   "execution_count": 5
  },
  {
   "metadata": {
    "ExecuteTime": {
     "end_time": "2025-07-13T11:58:45.016895Z",
     "start_time": "2025-07-13T11:58:45.013092Z"
    }
   },
   "cell_type": "code",
   "source": "explainer = KNNExplainer(knn, X_test, y_test, class_index= 1)",
   "id": "39167ff39380cc20",
   "outputs": [],
   "execution_count": 6
  },
  {
   "metadata": {
    "ExecuteTime": {
     "end_time": "2025-07-13T11:58:45.059557Z",
     "start_time": "2025-07-13T11:58:45.056117Z"
    }
   },
   "cell_type": "code",
   "source": "phi = explainer.explain(x=X_test[1])",
   "id": "a21d3578d6ccd47d",
   "outputs": [
    {
     "name": "stdout",
     "output_type": "stream",
     "text": [
      "Shapley\n",
      "[2 8]\n",
      "shap_values [0.13125 0.075   0.21875 0.1125 ]\n",
      "4\n"
     ]
    }
   ],
   "execution_count": 7
  },
  {
   "metadata": {
    "ExecuteTime": {
     "end_time": "2025-07-13T11:58:45.095950Z",
     "start_time": "2025-07-13T11:58:45.092715Z"
    }
   },
   "cell_type": "code",
   "source": "phi = explainer.explain(x=X_test[0])",
   "id": "73b3f024556288d9",
   "outputs": [
    {
     "name": "stdout",
     "output_type": "stream",
     "text": [
      "Shapley\n",
      "[2 6]\n",
      "shap_values [0.075   0.1125  0.21875 0.13125]\n",
      "4\n"
     ]
    }
   ],
   "execution_count": 8
  },
  {
   "metadata": {
    "ExecuteTime": {
     "end_time": "2025-07-13T11:58:45.122862Z",
     "start_time": "2025-07-13T11:58:45.119432Z"
    }
   },
   "cell_type": "code",
   "source": "phi = explainer.explain(x=X_test[2])",
   "id": "7195445fd78ffb2f",
   "outputs": [
    {
     "name": "stdout",
     "output_type": "stream",
     "text": [
      "Shapley\n",
      "[10  0]\n",
      "shap_values [0.   0.   0.05 0.  ]\n",
      "4\n"
     ]
    }
   ],
   "execution_count": 9
  },
  {
   "metadata": {
    "ExecuteTime": {
     "end_time": "2025-07-13T11:58:45.157169Z",
     "start_time": "2025-07-13T11:58:45.154305Z"
    }
   },
   "cell_type": "code",
   "source": "phi = explainer.explain(x=X_test[3])",
   "id": "4a37792bab2954b1",
   "outputs": [
    {
     "name": "stdout",
     "output_type": "stream",
     "text": [
      "Shapley\n",
      "[1 9]\n",
      "shap_values [0.13125 0.1125  0.21875 0.075  ]\n",
      "4\n"
     ]
    }
   ],
   "execution_count": 10
  },
  {
   "metadata": {
    "ExecuteTime": {
     "end_time": "2025-07-13T11:58:45.197217Z",
     "start_time": "2025-07-13T11:58:45.195507Z"
    }
   },
   "cell_type": "code",
   "source": "",
   "id": "82ee5607b1abc446",
   "outputs": [],
   "execution_count": null
  }
 ],
 "metadata": {
  "kernelspec": {
   "display_name": "Python 3",
   "language": "python",
   "name": "python3"
  },
  "language_info": {
   "codemirror_mode": {
    "name": "ipython",
    "version": 2
   },
   "file_extension": ".py",
   "mimetype": "text/x-python",
   "name": "python",
   "nbconvert_exporter": "python",
   "pygments_lexer": "ipython2",
   "version": "2.7.6"
  }
 },
 "nbformat": 4,
 "nbformat_minor": 5
}
