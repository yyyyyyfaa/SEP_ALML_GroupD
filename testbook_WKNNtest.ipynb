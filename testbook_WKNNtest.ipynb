{
 "cells": [
  {
   "cell_type": "code",
   "execution_count": 1,
   "id": "7498535b-8634-4aba-a42d-42c0f71af85d",
   "metadata": {},
   "outputs": [],
   "source": [
    "import matplotlib.pyplot as plt\n",
    "import numpy as np\n",
    "import pandas as pd\n",
    "from shapiq.explainer import TabularExplainer\n",
    "from sklearn.metrics import accuracy_score\n",
    "from sklearn.model_selection import train_test_split\n",
    "from sklearn.neighbors import KNeighborsClassifier\n",
    "\n",
    "import shapiq_student\n",
    "from shapiq_student.wknn_explainer2 import Weighted\n"
   ]
  },
  {
   "cell_type": "code",
   "execution_count": 2,
   "id": "6f7c51ec-9579-4e43-8e82-c2539eb43109",
   "metadata": {},
   "outputs": [],
   "source": [
    "df = pd.read_csv(\"shapiq_student/movie_dataset.csv\")\n",
    "train_df, test_df = train_test_split(df, test_size=0.2, random_state=42)\n",
    "X_train = train_df[[\"fight_scenes\",\"kiss_scenes\"]].values\n",
    "y_train = train_df[\"label\"].values\n",
    "X_test = test_df[[\"fight_scenes\",\"kiss_scenes\"]].values\n",
    "y_test = test_df[\"label\"].values"
   ]
  },
  {
   "cell_type": "code",
   "execution_count": 3,
   "id": "36ccc260-11f9-4328-8347-3ac7f0c048c8",
   "metadata": {},
   "outputs": [],
   "source": [
    "knn = KNeighborsClassifier(n_neighbors=5)\n",
    "knn.fit(X_train, y_train)\n",
    "prediction = knn.predict(X_test)\n",
    "accuracy = accuracy_score(y_test, prediction)"
   ]
  },
  {
   "cell_type": "code",
   "execution_count": 4,
   "id": "aeec906d",
   "metadata": {},
   "outputs": [],
   "source": [
    "row = df[df['title'] == 'Revenge Protocol'].iloc[0]\n",
    "x_val = [row['fight_scenes'], row['kiss_scenes']]\n",
    "y_val = row['label']"
   ]
  },
  {
   "cell_type": "code",
   "execution_count": 5,
   "id": "7b99de54-d28c-45bf-8019-bca65abfb67a",
   "metadata": {},
   "outputs": [],
   "source": [
    "explainer = Weighted(X_train, y_train, \"weighted\")"
   ]
  },
  {
   "cell_type": "code",
   "execution_count": 6,
   "id": "58abd820-6683-4121-abc2-11a2391d297d",
   "metadata": {
    "scrolled": true
   },
   "outputs": [],
   "source": [
    "phi = explainer.weighted_knn_shapley(\n",
    "    x_val=x_val, y_val=y_val,\n",
    "    gamma=5, K=5)"
   ]
  },
  {
   "cell_type": "code",
   "execution_count": 7,
   "id": "54a3e322-51b2-4958-b1ef-0f475c9c59a5",
   "metadata": {},
   "outputs": [
    {
     "name": "stdout",
     "output_type": "stream",
     "text": [
      "[ 1.25105610e+00  1.25105610e+00  1.25105610e+00  1.25105610e+00\n",
      "  1.25105610e+00  2.51056098e-01  8.43894310e-02  3.67703834e-02\n",
      "  1.89132405e-02  1.09767326e-02  7.00847864e-03  4.84397647e-03\n",
      " -2.88275553e-02  2.96045561e-02  3.01040566e-02  3.04370569e-02\n",
      "  3.06659946e-02  3.08275977e-02  3.09443111e-02  3.10303104e-02\n",
      "  3.10948099e-02  3.11439524e-02  3.11819261e-02  3.12116446e-02\n",
      "  3.12351718e-02  3.12539936e-02  3.12691958e-02  3.12815828e-02\n",
      "  3.12917578e-02  3.13001785e-02  3.13071957e-02  3.13130812e-02\n",
      " -1.09085853e-03]\n"
     ]
    }
   ],
   "source": [
    "print(phi)"
   ]
  },
  {
   "cell_type": "code",
   "execution_count": 8,
   "id": "ce624c89",
   "metadata": {},
   "outputs": [
    {
     "name": "stdout",
     "output_type": "stream",
     "text": [
      "Eigene Weighted-KNN Shapley Werte:\n",
      "[ 1.25105610e+00  1.25105610e+00  1.25105610e+00  1.25105610e+00\n",
      "  1.25105610e+00  2.51056098e-01  8.43894310e-02  3.67703834e-02\n",
      "  1.89132405e-02  1.09767326e-02  7.00847864e-03  4.84397647e-03\n",
      " -2.88275553e-02  2.96045561e-02  3.01040566e-02  3.04370569e-02\n",
      "  3.06659946e-02  3.08275977e-02  3.09443111e-02  3.10303104e-02\n",
      "  3.10948099e-02  3.11439524e-02  3.11819261e-02  3.12116446e-02\n",
      "  3.12351718e-02  3.12539936e-02  3.12691958e-02  3.12815828e-02\n",
      "  3.12917578e-02  3.13001785e-02  3.13071957e-02  3.13130812e-02\n",
      " -1.09085853e-03]\n"
     ]
    }
   ],
   "source": [
    "from shapiq_student.wknn_explainer2 import Weighted\n",
    "\n",
    "gamma = 5\n",
    "K = 5\n",
    "\n",
    "explainer = Weighted(X_train, y_train, \"weighted\")\n",
    "\n",
    "own_phi = explainer.weighted_knn_shapley(\n",
    "    x_val=x_val, y_val=y_val,\n",
    "    gamma=gamma, K=K)\n",
    "\n",
    "print(\"Eigene Weighted-KNN Shapley Werte:\")\n",
    "print(own_phi)\n"
   ]
  },
  {
   "cell_type": "code",
   "execution_count": 9,
   "id": "6cd3a68a",
   "metadata": {},
   "outputs": [],
   "source": [
    "import numpy as np\n",
    "import itertools\n",
    "from sklearn.neighbors import KNeighborsClassifier\n",
    "\n",
    "def brute_force_shapley(X_train, y_train, x_val, y_val, K=5):\n",
    "    N = len(X_train)\n",
    "    shapley_values = np.zeros(N)\n",
    "\n",
    "    all_indices = list(range(N))\n",
    "    \n",
    "    for perm in itertools.permutations(all_indices):\n",
    "        knn_set = []\n",
    "        labels_set = []\n",
    "        prev_prediction = 0.5  # Baseline prediction (can be adjusted)\n",
    "\n",
    "        for idx in perm:\n",
    "            knn_set.append(X_train[idx])\n",
    "            labels_set.append(y_train[idx])\n",
    "            \n",
    "            # Build KNN classifier on current coalition\n",
    "            current_K = min(K, len(knn_set))\n",
    "            knn = KNeighborsClassifier(n_neighbors=current_K)\n",
    "            knn.fit(knn_set, labels_set)\n",
    "            current_prediction = knn.predict([x_val])[0]\n",
    "\n",
    "            # Contribution of idx\n",
    "            marginal_contribution = int(current_prediction == y_val) - int(prev_prediction == y_val)\n",
    "            shapley_values[idx] += marginal_contribution\n",
    "\n",
    "            prev_prediction = current_prediction\n",
    "\n",
    "    # Average over all permutations\n",
    "    shapley_values /= np.math.factorial(N)\n",
    "    \n",
    "    return shapley_values\n"
   ]
  },
  {
   "cell_type": "code",
   "execution_count": 13,
   "id": "66802215",
   "metadata": {},
   "outputs": [
    {
     "name": "stdout",
     "output_type": "stream",
     "text": [
      "Brute-Force Shapley Values:\n",
      "[-0.09642857  0.49404762 -0.09642857 -0.09642857  0.49404762 -0.09642857\n",
      "  0.49404762 -0.09642857]\n"
     ]
    },
    {
     "name": "stderr",
     "output_type": "stream",
     "text": [
      "C:\\Users\\Test\\AppData\\Local\\Temp\\ipykernel_7136\\2615052139.py:33: DeprecationWarning: `np.math` is a deprecated alias for the standard library `math` module (Deprecated Numpy 1.25). Replace usages of `np.math` with `math`\n",
      "  shapley_values /= np.math.factorial(N)\n"
     ]
    }
   ],
   "source": [
    "# Nehme nur kleine Teilmenge für Brute-Force (sonst dauert es zu lange!)\n",
    "small_train_df = train_df.sample(8, random_state=0)\n",
    "X_small = small_train_df[[\"fight_scenes\", \"kiss_scenes\"]].values\n",
    "y_small = small_train_df[\"label\"].values\n",
    "\n",
    "# Wähle ein Testbeispiel\n",
    "row = df[df['title'] == 'Revenge Protocol'].iloc[0]\n",
    "x_val = [row['fight_scenes'], row['kiss_scenes']]\n",
    "y_val = row['label']\n",
    "\n",
    "# Berechne Brute-Force Shapley Values\n",
    "phi_brute = brute_force_shapley(X_small, y_small, x_val, y_val, K=5)\n",
    "\n",
    "print(\"Brute-Force Shapley Values:\")\n",
    "print(phi_brute)\n"
   ]
  },
  {
   "cell_type": "code",
   "execution_count": 14,
   "id": "2abf96ae",
   "metadata": {},
   "outputs": [
    {
     "name": "stdout",
     "output_type": "stream",
     "text": [
      "Weighted KNN-Shapley Values: [ 1.26904762  1.26904762  1.05833333 -1.05833333 -1.05833333 -0.05833333\n",
      "  0.10833333 -0.0547619 ]\n"
     ]
    }
   ],
   "source": [
    "explainer = Weighted(X_small, y_small, method=\"weighted\")\n",
    "phi_weighted = explainer.weighted_knn_shapley(x_val, y_val, gamma=5, K=5)\n",
    "\n",
    "print(\"Weighted KNN-Shapley Values:\", phi_weighted)\n"
   ]
  },
  {
   "cell_type": "code",
   "execution_count": 15,
   "id": "6bdfe5b4",
   "metadata": {},
   "outputs": [
    {
     "data": {
      "image/png": "[encoded data removed]",
      "text/plain": [
       "<Figure size 1000x500 with 1 Axes>"
      ]
     },
     "metadata": {},
     "output_type": "display_data"
    }
   ],
   "source": [
    "min_len = min(len(phi_brute), len(phi_weighted))\n",
    "x = np.arange(min_len)\n",
    "\n",
    "plt.figure(figsize=(10,5))\n",
    "plt.bar(x - 0.2, phi_brute[:min_len], width=0.4, label=\"Brute-Force Shapley\", color=\"lightblue\")\n",
    "plt.bar(x + 0.2, phi_weighted[:min_len], width=0.4, label=\"Weighted KNN-Shapley\", color=\"orange\")\n",
    "\n",
    "plt.xlabel(\"Training Points Index\")\n",
    "plt.ylabel(\"Shapley Value\")\n",
    "plt.title(\"Vergleich: Brute-Force vs Weighted KNN Shapley\")\n",
    "plt.legend()\n",
    "plt.show()\n"
   ]
  },
  {
   "cell_type": "code",
   "execution_count": null,
   "id": "45226970",
   "metadata": {},
   "outputs": [],
   "source": []
  }
 ],
 "metadata": {
  "kernelspec": {
   "display_name": "base",
   "language": "python",
   "name": "python3"
  },
  "language_info": {
   "codemirror_mode": {
    "name": "ipython",
    "version": 3
   },
   "file_extension": ".py",
   "mimetype": "text/x-python",
   "name": "python",
   "nbconvert_exporter": "python",
   "pygments_lexer": "ipython3",
   "version": "3.12.7"
  }
 },
 "nbformat": 4,
 "nbformat_minor": 5
}
